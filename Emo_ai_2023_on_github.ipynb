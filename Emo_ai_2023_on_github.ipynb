{
  "cells": [
    {
      "cell_type": "markdown",
      "metadata": {
        "id": "f8_4lHjcvJoF"
      },
      "source": [
        "### code from [Gradual_unfreeze_example.ipynb](https://colab.research.google.com/github/Kelvinthedrugger/-AI-/blob/main/emo_nbs/CODE_EXAMPLE_TO_PUSH/EMO_AI_context_model/Gradual_unfreeze_example.ipynb)\n",
        "### Setup model"
      ]
    },
    {
      "cell_type": "markdown",
      "metadata": {
        "id": "RFa2pUXcvYWa"
      },
      "source": [
        "### Import"
      ]
    },
    {
      "cell_type": "code",
      "execution_count": null,
      "metadata": {
        "id": "lIYdn1woOS1n"
      },
      "outputs": [],
      "source": [
        "%%capture\n",
        "!pip install transformers tokenizers\n",
        "import torch\n",
        "from torch import nn\n",
        "from typing import List\n",
        "import torch.nn.functional as F\n",
        "from transformers import DistilBertTokenizer, AutoTokenizer, AutoModelWithLMHead, DistilBertForSequenceClassification, AdamW, get_linear_schedule_with_warmup\n",
        "import logging\n",
        "import os\n",
        "from functools import lru_cache\n",
        "from tokenizers import ByteLevelBPETokenizer\n",
        "from tokenizers.processors import BertProcessing\n",
        "#import pytorch_lightning as pl\n",
        "from torch.utils.data import DataLoader, Dataset\n",
        "import pandas as pd\n",
        "from argparse import Namespace\n",
        "from sklearn.metrics import classification_report\n",
        "torch.__version__\n"
      ]
    },
    {
      "cell_type": "code",
      "source": [
        "def sizeof_fmt(num, suffix='B'):\n",
        "    ''' by Fred Cirera,  https://stackoverflow.com/a/1094933/1870254, modified'''\n",
        "    for unit in ['','Ki','Mi','Gi','Ti','Pi','Ei','Zi']:\n",
        "        if abs(num) < 1024.0:\n",
        "            return \"%3.1f %s%s\" % (num, unit, suffix)\n",
        "        num /= 1024.0\n",
        "    return \"%.1f %s%s\" % (num, 'Yi', suffix)\n",
        "\n",
        "def get_variable_size(size=10):\n",
        "    from sys import getsizeof\n",
        "    \"\"\"# can be 'locals()' or 'globals()'\"\"\"\n",
        "    for name, size in sorted(((name, getsizeof(value)) for name, value in list(\n",
        "                              globals().items())), key= lambda x: -x[1])[:size]:\n",
        "        print(\"{:>30}: {:>8}\".format(name, sizeof_fmt(size)))\n"
      ],
      "metadata": {
        "id": "4vBLKsVVL5s0"
      },
      "execution_count": null,
      "outputs": []
    },
    {
      "cell_type": "markdown",
      "metadata": {
        "id": "dw29ZqVzvbzp"
      },
      "source": [
        "### Tokenizer setup"
      ]
    },
    {
      "cell_type": "code",
      "execution_count": null,
      "metadata": {
        "id": "sdFcwDIPvdth",
        "colab": {
          "base_uri": "https://localhost:8080/",
          "referenced_widgets": [
            "a8648a9215fd434a98343262e6ab8a9a",
            "8d496dc2f33f4bd88906a03f68cfb9df",
            "75b231b4d019405095c3dbae81e6ac50",
            "3300aaeb42d14118b896473268342ae3",
            "43fdc94d09e84ad0ad83f38e6e021662",
            "81a94a327451467bad624d70320267de",
            "d4a6b5c62507408b922a6453342faee3",
            "7160cb45163a44bab89142b12e9537d9",
            "d0282f6afa064477aa09f063b63bc2e9",
            "9f56c61a0c714b9d809a3d0b99aea2f7",
            "66e8cc9dcd1f4b60b06a02f05558f7f3",
            "442157f8753f47e58d8e9188bea8a1b9",
            "95313369998442da91bb0c506659f0ad",
            "7fce2b7b56dc4e0e96a1d1ce7479d1c5",
            "c75ed05355514b348aade266843b75c5",
            "96f03d882a9549658a18aacb2310a6b6",
            "59d3769e7c414798ae5fa316b5725300",
            "473569bfd0ca4c708fa95b6bad736ec3",
            "1935e401101f43cd91853a11d40d3374",
            "62c525c5385d4400ad293deb4063ee9a",
            "674ba2a2a4ff4c3d9860b89b12be23fa",
            "cd16b0dff84a4c89888c6d5155e2edb6",
            "237136d35beb447f819c845b672401c2",
            "23992c8b30da497e93479b29096ecf83",
            "4f44478efe324b0c8b737c0fd06f126b",
            "9de5e7bae8c94dbbaed8adbb68a4dc94",
            "f0d9b080f4fe4f58aa8392fb5e456c9a",
            "0172fd57718a4a949b541f63e343c0e0",
            "c8fa85b533c24d2093c3bfdeb4161551",
            "be6de8c82bf3408db3afec4fe38db144",
            "c97b3a8f1d8e4e4ca795b287cb7abea3",
            "88c5d929d13c42a2be59e1645142d199",
            "844b05b1256f4696a5fce7092c4fffac",
            "d431c5cdf5544a50aa45258b4bf29a5c",
            "03bf6468ba074c8f808c8b347e877e21",
            "1303e5cfe5744b0daab7c32dff45765c",
            "c5cd950e5356429294daef0bb5c8d036",
            "d2ddd019ad9340b49d7a66ab0e0d0000",
            "2cf5a4d75dae46349a5f4eb4c0df888f",
            "c5127b4c66944ec38907d3a40d047d7a",
            "8eed776be6b84a9b8cdac60617ba93c1",
            "10bc79ee2e894d3580530eeb2baba830",
            "07fd46e9198d42b3bc39bd398271d8b1",
            "d7b5110e8b074ac29a0bb4c9c05658fa"
          ]
        },
        "outputId": "d38be9ff-a82a-4d09-eb7e-c741c8c582a2"
      },
      "outputs": [
        {
          "output_type": "display_data",
          "data": {
            "text/plain": [
              "Downloading (…)lve/main/config.json:   0%|          | 0.00/480 [00:00<?, ?B/s]"
            ],
            "application/vnd.jupyter.widget-view+json": {
              "version_major": 2,
              "version_minor": 0,
              "model_id": "a8648a9215fd434a98343262e6ab8a9a"
            }
          },
          "metadata": {}
        },
        {
          "output_type": "display_data",
          "data": {
            "text/plain": [
              "Downloading (…)olve/main/vocab.json:   0%|          | 0.00/899k [00:00<?, ?B/s]"
            ],
            "application/vnd.jupyter.widget-view+json": {
              "version_major": 2,
              "version_minor": 0,
              "model_id": "442157f8753f47e58d8e9188bea8a1b9"
            }
          },
          "metadata": {}
        },
        {
          "output_type": "display_data",
          "data": {
            "text/plain": [
              "Downloading (…)olve/main/merges.txt:   0%|          | 0.00/456k [00:00<?, ?B/s]"
            ],
            "application/vnd.jupyter.widget-view+json": {
              "version_major": 2,
              "version_minor": 0,
              "model_id": "237136d35beb447f819c845b672401c2"
            }
          },
          "metadata": {}
        },
        {
          "output_type": "display_data",
          "data": {
            "text/plain": [
              "Downloading (…)/main/tokenizer.json:   0%|          | 0.00/1.36M [00:00<?, ?B/s]"
            ],
            "application/vnd.jupyter.widget-view+json": {
              "version_major": 2,
              "version_minor": 0,
              "model_id": "d431c5cdf5544a50aa45258b4bf29a5c"
            }
          },
          "metadata": {}
        }
      ],
      "source": [
        "!mkdir -p tokenizer\n",
        "## load pretrained tokenizer information\n",
        "def setup_tokenizer():\n",
        "  tokenizer = AutoTokenizer.from_pretrained('distilroberta-base')\n",
        "  tokenizer.save_pretrained(\"tokenizer\")\n",
        "\n",
        "setup_tokenizer()\n",
        "class TokenizersCollateFn:\n",
        "    def __init__(self, max_tokens=512):\n",
        "\n",
        "        ## RoBERTa uses BPE tokenizer similar to GPT\n",
        "        t = ByteLevelBPETokenizer(\n",
        "            \"tokenizer/vocab.json\",\n",
        "            \"tokenizer/merges.txt\"\n",
        "        )\n",
        "        t._tokenizer.post_processor = BertProcessing(\n",
        "            (\"</s>\", t.token_to_id(\"</s>\")),\n",
        "            (\"<s>\", t.token_to_id(\"<s>\")),\n",
        "        )\n",
        "        t.enable_truncation(max_tokens)\n",
        "        t.enable_padding(length=max_tokens, pad_id=t.token_to_id(\"<pad>\"))\n",
        "        self.tokenizer = t\n",
        "\n",
        "    def __call__(self, batch):\n",
        "        encoded = self.tokenizer.encode_batch([x[0] for x in batch])\n",
        "        sequences_padded = torch.tensor([enc.ids for enc in encoded])\n",
        "        attention_masks_padded = torch.tensor([enc.attention_mask for enc in encoded])\n",
        "        labels = torch.tensor([x[1] for x in batch])\n",
        "\n",
        "        return (sequences_padded, attention_masks_padded), labels\n",
        "## emotion labels\n",
        "label2int = {\n",
        "  \"sadness\": 0,\n",
        "  \"joy\": 1,\n",
        "  \"love\": 2,\n",
        "  \"anger\": 3,\n",
        "  \"fear\": 4,\n",
        "  \"surprise\": 5\n",
        "}\n",
        "\n",
        "emotions = [ \"sadness\", \"joy\", \"love\", \"anger\", \"fear\", \"surprise\"]\n",
        "\n"
      ]
    },
    {
      "cell_type": "markdown",
      "metadata": {
        "id": "TCmYXkDHvaJU"
      },
      "source": [
        "### Model define\n",
        "\n",
        "### 如果要用[V1, A1, V2, A2]的話，要改模型架構（從output數量開始改）"
      ]
    },
    {
      "cell_type": "code",
      "execution_count": null,
      "metadata": {
        "id": "dywxDKs-v27O"
      },
      "outputs": [],
      "source": [
        "# from https://github.com/digantamisra98/Mish/blob/b5f006660ac0b4c46e2c6958ad0301d7f9c59651/Mish/Torch/mish.py\n",
        "@torch.jit.script\n",
        "def mish(input):\n",
        "    return input * torch.tanh(F.softplus(input))\n",
        "\n",
        "class Mish(nn.Module):\n",
        "    def forward(self, input):\n",
        "        return mish(input)\n"
      ]
    },
    {
      "cell_type": "markdown",
      "source": [
        "### 試試看新模型 (date: 6/24)"
      ],
      "metadata": {
        "id": "6Ha6YY_0dgSF"
      }
    },
    {
      "cell_type": "code",
      "source": [
        "class NewEmoModel(nn.Module):\n",
        "    def __init__(self, base_model, n_classes=2, base_model_output_size=768, dropout=0.05):\n",
        "        super().__init__()\n",
        "        self.base_model = base_model\n",
        "\n",
        "        self.classifier = nn.Sequential(\n",
        "            nn.Dropout(dropout),\n",
        "            nn.Linear(base_model_output_size, base_model_output_size),\n",
        "            Mish(),\n",
        "            nn.Dropout(dropout),\n",
        "            nn.Linear(base_model_output_size, n_classes)\n",
        "        )\n",
        "\n",
        "        for layer in self.classifier:\n",
        "            if isinstance(layer, nn.Linear):\n",
        "                layer.weight.data.normal_(mean=0.0, std=0.02)\n",
        "                if layer.bias is not None:\n",
        "                    layer.bias.data.zero_()\n",
        "\n",
        "        self.last_classifier = nn.Sequential(\n",
        "            nn.Dropout(dropout),\n",
        "            # n_classes: [V,A] -> 2\n",
        "            # 4: v_bar, v_std, a_bar, a_std\n",
        "            nn.Linear(2*n_classes+4, base_model_output_size),\n",
        "            Mish(),\n",
        "            nn.Dropout(dropout),\n",
        "            nn.Linear(base_model_output_size, n_classes)\n",
        "        )\n",
        "\n",
        "\n",
        "    def forward_roberta(self, input_, *args):\n",
        "        X, attention_mask = input_\n",
        "        hidden_states = self.base_model(X, attention_mask=attention_mask)\n",
        "        # maybe do some pooling / RNNs... go crazy here!\n",
        "        # use the <s> representation\n",
        "        return self.classifier(hidden_states[0][:, 0, :])\n",
        "\n",
        "    def forward(self, input_):\n",
        "        #X, atten_mask, V_bar, V_std, A_bar, A_stat = input_\n",
        "        # in1, in2 has X, atten_mask, respectively\n",
        "        in1, in2, V_bar, V_std, A_bar, A_stat = input_\n",
        "        VAsj = self.forward_roberta( in1 )\n",
        "        VAj_1 = self.forward_roberta( in2 )\n",
        "        # split VAs into VA from sj...sk and sj+1\n",
        "        #VAsj, VAj_1 = VAs[0], VAs[1]\n",
        "        # calculate new avg and std of V, A here\n",
        "        #V_new, A_new = 0, 0\n",
        "        return self.last_classifier(torch.concat([VAsj, VAj_1, V_bar, V_std, A_bar, A_stat]))\n"
      ],
      "metadata": {
        "id": "Hz1qPK6cdlUm"
      },
      "execution_count": null,
      "outputs": []
    },
    {
      "cell_type": "code",
      "source": [
        "tokenizer = AutoTokenizer.from_pretrained('distilroberta-base')"
      ],
      "metadata": {
        "id": "BcQoWtXolC4O"
      },
      "execution_count": null,
      "outputs": []
    },
    {
      "cell_type": "code",
      "source": [
        "n_classes = 2\n",
        "model = NewEmoModel(AutoModelWithLMHead.from_pretrained(\"distilroberta-base\").base_model, n_classes)"
      ],
      "metadata": {
        "colab": {
          "base_uri": "https://localhost:8080/",
          "height": 104,
          "referenced_widgets": [
            "657c764a9d5742c7b53077a2d6407c1b",
            "c8311fbeb38d4551826da1959bba665b",
            "da3f59d25ad3491fa920302592808afe",
            "855799e349fc484a9cd6b60aa3bf3773",
            "dcf8a470848a44a2966594c8d1d23639",
            "7a57c90f16fe43e2a9a9e9f79123c457",
            "79f640d512094c3c95f426ff13cb730e",
            "8bf7ecae8e47487cba33dda583cb9eab",
            "c4690478b13f4a129fbd27f84f4c1b4b",
            "a981d376f4104cc1bf549f73d7dd4ecc",
            "896d4987ddf743aca5522f8f5b41df49"
          ]
        },
        "id": "DRB4udwfgx6z",
        "outputId": "14d5c894-8ae1-4e42-a595-5898550d00da"
      },
      "execution_count": null,
      "outputs": [
        {
          "output_type": "stream",
          "name": "stderr",
          "text": [
            "/usr/local/lib/python3.10/dist-packages/transformers/models/auto/modeling_auto.py:1362: FutureWarning: The class `AutoModelWithLMHead` is deprecated and will be removed in a future version. Please use `AutoModelForCausalLM` for causal language models, `AutoModelForMaskedLM` for masked language models and `AutoModelForSeq2SeqLM` for encoder-decoder models.\n",
            "  warnings.warn(\n"
          ]
        },
        {
          "output_type": "display_data",
          "data": {
            "text/plain": [
              "Downloading model.safetensors:   0%|          | 0.00/331M [00:00<?, ?B/s]"
            ],
            "application/vnd.jupyter.widget-view+json": {
              "version_major": 2,
              "version_minor": 0,
              "model_id": "657c764a9d5742c7b53077a2d6407c1b"
            }
          },
          "metadata": {}
        }
      ]
    },
    {
      "cell_type": "markdown",
      "source": [
        "### load pretrained model\n",
        "#### note that i mount my own drive for convenience\n",
        "#### to load pretrained weight, on can use gdown to load the weights"
      ],
      "metadata": {
        "id": "YIE0gkGxKH4F"
      }
    },
    {
      "cell_type": "code",
      "source": [
        "!gdown --folder https://drive.google.com/drive/folders/1EwKCylRdQMPZlFIjFV0r0QiTO5Sgy0Sz?usp=sharing"
      ],
      "metadata": {
        "id": "FavIqUrMSp2S"
      },
      "execution_count": null,
      "outputs": []
    },
    {
      "cell_type": "markdown",
      "source": [
        "#### don't have to run the import drive ones if you are not going\n",
        "#### to save files for example in your drive"
      ],
      "metadata": {
        "id": "i4_osYhOSquC"
      }
    },
    {
      "cell_type": "code",
      "source": [
        "\"mount drive first\"\n",
        "from google.colab import drive\n",
        "drive.mount('/content/drive')"
      ],
      "metadata": {
        "colab": {
          "base_uri": "https://localhost:8080/"
        },
        "id": "CwIn0xHCKKO0",
        "outputId": "f33bfe2b-e5aa-410f-8e13-517f8f9dbaeb"
      },
      "execution_count": null,
      "outputs": [
        {
          "output_type": "stream",
          "name": "stdout",
          "text": [
            "Mounted at /content/drive\n"
          ]
        }
      ]
    },
    {
      "cell_type": "code",
      "source": [
        "!ls /content/drive/MyDrive/EMO_AI_ver_2/model_weights"
      ],
      "metadata": {
        "colab": {
          "base_uri": "https://localhost:8080/"
        },
        "id": "zsca6MgTKVXJ",
        "outputId": "7cfe4dbd-81ec-4d8c-d82a-7591435936b7"
      },
      "execution_count": null,
      "outputs": [
        {
          "output_type": "stream",
          "name": "stdout",
          "text": [
            "0627_1_epoch_all_unfreezed.pt\n",
            "0627_1_epoch_classifier_unfreezed.pt\n",
            "0627_epoch_1_seed_1337.pt\n",
            "0629_on_pseudo_1_epoch_all_unfreezed.pt\n",
            "0629_on_pseudo_1_epoch_classifier_unfreezed.pt\n",
            "0629_on_pseudo_epoch_1_seed_1337.pt\n"
          ]
        }
      ]
    },
    {
      "cell_type": "code",
      "source": [
        "latest_weight_name = \"0627_1_epoch_all_unfreezed.pt\"\n",
        "# copy to /content\n",
        "!cp /content/drive/MyDrive/EMO_AI_ver_2/model_weights/{latest_weight_name} /content\n",
        "!ls *.pt"
      ],
      "metadata": {
        "colab": {
          "base_uri": "https://localhost:8080/"
        },
        "id": "1YlN0BQ9KoBc",
        "outputId": "efb116a5-4f60-4b47-e106-e512a6b4aa6c"
      },
      "execution_count": null,
      "outputs": [
        {
          "output_type": "stream",
          "name": "stdout",
          "text": [
            "0627_1_epoch_all_unfreezed.pt\n"
          ]
        }
      ]
    },
    {
      "cell_type": "markdown",
      "source": [
        "#### load pretrained weight to model"
      ],
      "metadata": {
        "id": "-7Ub0YLuS1JZ"
      }
    },
    {
      "cell_type": "code",
      "source": [
        "latest_weight_name"
      ],
      "metadata": {
        "id": "FP_9RW9pTPK_"
      },
      "execution_count": null,
      "outputs": []
    },
    {
      "cell_type": "code",
      "source": [
        "\"load the weight to model\"\n",
        "model.load_state_dict( torch.load(latest_weight_name)() )"
      ],
      "metadata": {
        "colab": {
          "base_uri": "https://localhost:8080/"
        },
        "id": "TCu7StyIKHV4",
        "outputId": "255bc4c3-aed0-4cc1-9e42-dce328de086d"
      },
      "execution_count": null,
      "outputs": [
        {
          "output_type": "execute_result",
          "data": {
            "text/plain": [
              "<All keys matched successfully>"
            ]
          },
          "metadata": {},
          "execution_count": 11
        }
      ]
    },
    {
      "cell_type": "markdown",
      "source": [
        "### 平均值: 簡單, 用 Avg_new = Avg_old * (1 - ratio) + Data_new * ratio就好\n",
        "### 標準差: 我決定先用變異數(計算較簡單,aka,不用開根號): 追蹤sigma X^2，變異數 = Avg(Sigma X^2) - Avg**2\n",
        "\n",
        "### 'stats'應該不用梯度?，要注意一下"
      ],
      "metadata": {
        "id": "fuL8tPjJnSIp"
      }
    },
    {
      "cell_type": "code",
      "source": [
        "\"we're doing regression!\"\n",
        "criterion = nn.MSELoss()\n",
        "# optimizer\n",
        "lr = 1e-4\n",
        "optimizer = AdamW(model.parameters(), lr=lr)\n",
        "optimizer.zero_grad()"
      ],
      "metadata": {
        "id": "7we483j0g9nX",
        "colab": {
          "base_uri": "https://localhost:8080/"
        },
        "outputId": "497a0100-0c5e-4b2b-d817-d022a363d712"
      },
      "execution_count": null,
      "outputs": [
        {
          "output_type": "stream",
          "name": "stderr",
          "text": [
            "/usr/local/lib/python3.10/dist-packages/transformers/optimization.py:411: FutureWarning: This implementation of AdamW is deprecated and will be removed in a future version. Use the PyTorch implementation torch.optim.AdamW instead, or set `no_deprecation_warning=True` to disable this warning\n",
            "  warnings.warn(\n"
          ]
        }
      ]
    },
    {
      "cell_type": "code",
      "source": [
        "\"it all worked!\"\n",
        "n_classes = 2\n",
        "model = NewEmoModel(AutoModelWithLMHead.from_pretrained(\"distilroberta-base\").base_model, n_classes)\n",
        "\n",
        "# forward pass\n",
        "# [sent1, sent2, V_avg, V_平方和, A_avg, A_平方和]\n",
        "arr = [\"句子1\", \"句子2\", 0.16, 0, 0.5, 0]\n",
        "\n",
        "# initialize stats\n",
        "ln = 0 # the passed number of data\n",
        "stats = torch.tensor( [ arr[2:] ] ) # expected shape: (1,4) (or, (batch, 4))\n",
        "enc = tokenizer.encode_plus(arr[0])\n",
        "a = (torch.tensor(enc[\"input_ids\"]).unsqueeze(0), torch.tensor(enc[\"attention_mask\"]).unsqueeze(0))\n",
        "\n",
        "enc = tokenizer.encode_plus(arr[1])\n",
        "b = (torch.tensor(enc[\"input_ids\"]).unsqueeze(0), torch.tensor(enc[\"attention_mask\"]).unsqueeze(0))\n",
        "\n",
        "out1 = model.forward_roberta(a) # Sk...j\n",
        "out2 = model.forward_roberta(b) # Sj+1\n",
        "\n",
        "ln += out1.shape[0] # the batch_size\n",
        "ratio = out1.shape[0] / ln\n",
        "\n",
        "in_f = torch.concat([out1, out2, stats[:,0:1], stats[:,1:2]**2/ln - stats[:,0:1], stats[:,2:3], stats[:,3:]**2/ln - stats[:,2:3]], dim=1)\n",
        "\n",
        "output = model.last_classifier(in_f) # shape: (1,2) (or, (bs, 2))\n",
        "\n",
        "# update average & standard deviation (sigma(x**2) actually)\n",
        "stats[:,0] = stats[:,0] * (1-ratio) + output[:,0] * ratio\n",
        "stats[:,2] = stats[:,2] * (1-ratio) + output[:,1] * ratio\n",
        "stats[:,1] = stats[:,1]* (1-ratio) + output[:,0] ** 2 * ratio\n",
        "stats[:,3] = stats[:,3]* (1-ratio) + output[:,1] ** 2 * ratio\n",
        "# loss & update model weight\n",
        "loss = criterion(output, torch.tensor([[0.5, -0.5]])) # the label is made up\n",
        "loss.backward()\n",
        "optimizer.step()\n",
        "\n",
        "optimizer.zero_grad()"
      ],
      "metadata": {
        "id": "EzkvUQCmiPb8"
      },
      "execution_count": null,
      "outputs": []
    },
    {
      "cell_type": "markdown",
      "source": [
        "## 先用手邊的資料train!!\n",
        "## 處理資料\n",
        "### 變數清單\n",
        "\n",
        "one: 原始抓到的text跟emoji。\n",
        "\n",
        "emoji_map: emoji的名字 對 emoji。\n",
        "\n",
        "text_emoji_data: text對emoji\n",
        "\n",
        "rev_emoji_map: emoji 對 emoji的名字。\n",
        "\n",
        "Data: 最後的(text, VA)。如果text裡面有emoji，說明當初抓的時候，那個emoji要嘛\n",
        "\n",
        "1. 在74個emoji list裡面，但是一直搜尋不到。\n",
        "2.emoji不在74個裡面"
      ],
      "metadata": {
        "id": "Fux-s29kOBEB"
      }
    },
    {
      "cell_type": "markdown",
      "metadata": {
        "id": "n6Ps8H1qwBdO"
      },
      "source": [
        "### load files"
      ]
    },
    {
      "cell_type": "code",
      "execution_count": null,
      "metadata": {
        "id": "bEEfreMZwC2h",
        "colab": {
          "base_uri": "https://localhost:8080/",
          "height": 206
        },
        "outputId": "0b07ab9f-c2c2-40c8-8268-69aa78ebd4a3"
      },
      "outputs": [
        {
          "output_type": "execute_result",
          "data": {
            "text/plain": [
              "                     face     V     A    V_norm    A_norm\n",
              "0               angryface  2.97  6.80  0.379310  0.855346\n",
              "1             poutingface  2.09  7.53  0.266922  0.947170\n",
              "2  facewithsymbolsonmouth  2.39  7.48  0.305236  0.940881\n",
              "3               tiredface  3.01  6.70  0.384419  0.842767\n",
              "4               wearyface  3.02  6.31  0.385696  0.793711"
            ],
            "text/html": [
              "\n",
              "  <div id=\"df-e0090280-da3f-4a9f-b3ec-c6e2f45ba05b\">\n",
              "    <div class=\"colab-df-container\">\n",
              "      <div>\n",
              "<style scoped>\n",
              "    .dataframe tbody tr th:only-of-type {\n",
              "        vertical-align: middle;\n",
              "    }\n",
              "\n",
              "    .dataframe tbody tr th {\n",
              "        vertical-align: top;\n",
              "    }\n",
              "\n",
              "    .dataframe thead th {\n",
              "        text-align: right;\n",
              "    }\n",
              "</style>\n",
              "<table border=\"1\" class=\"dataframe\">\n",
              "  <thead>\n",
              "    <tr style=\"text-align: right;\">\n",
              "      <th></th>\n",
              "      <th>face</th>\n",
              "      <th>V</th>\n",
              "      <th>A</th>\n",
              "      <th>V_norm</th>\n",
              "      <th>A_norm</th>\n",
              "    </tr>\n",
              "  </thead>\n",
              "  <tbody>\n",
              "    <tr>\n",
              "      <th>0</th>\n",
              "      <td>angryface</td>\n",
              "      <td>2.97</td>\n",
              "      <td>6.80</td>\n",
              "      <td>0.379310</td>\n",
              "      <td>0.855346</td>\n",
              "    </tr>\n",
              "    <tr>\n",
              "      <th>1</th>\n",
              "      <td>poutingface</td>\n",
              "      <td>2.09</td>\n",
              "      <td>7.53</td>\n",
              "      <td>0.266922</td>\n",
              "      <td>0.947170</td>\n",
              "    </tr>\n",
              "    <tr>\n",
              "      <th>2</th>\n",
              "      <td>facewithsymbolsonmouth</td>\n",
              "      <td>2.39</td>\n",
              "      <td>7.48</td>\n",
              "      <td>0.305236</td>\n",
              "      <td>0.940881</td>\n",
              "    </tr>\n",
              "    <tr>\n",
              "      <th>3</th>\n",
              "      <td>tiredface</td>\n",
              "      <td>3.01</td>\n",
              "      <td>6.70</td>\n",
              "      <td>0.384419</td>\n",
              "      <td>0.842767</td>\n",
              "    </tr>\n",
              "    <tr>\n",
              "      <th>4</th>\n",
              "      <td>wearyface</td>\n",
              "      <td>3.02</td>\n",
              "      <td>6.31</td>\n",
              "      <td>0.385696</td>\n",
              "      <td>0.793711</td>\n",
              "    </tr>\n",
              "  </tbody>\n",
              "</table>\n",
              "</div>\n",
              "      <button class=\"colab-df-convert\" onclick=\"convertToInteractive('df-e0090280-da3f-4a9f-b3ec-c6e2f45ba05b')\"\n",
              "              title=\"Convert this dataframe to an interactive table.\"\n",
              "              style=\"display:none;\">\n",
              "        \n",
              "  <svg xmlns=\"http://www.w3.org/2000/svg\" height=\"24px\"viewBox=\"0 0 24 24\"\n",
              "       width=\"24px\">\n",
              "    <path d=\"M0 0h24v24H0V0z\" fill=\"none\"/>\n",
              "    <path d=\"M18.56 5.44l.94 2.06.94-2.06 2.06-.94-2.06-.94-.94-2.06-.94 2.06-2.06.94zm-11 1L8.5 8.5l.94-2.06 2.06-.94-2.06-.94L8.5 2.5l-.94 2.06-2.06.94zm10 10l.94 2.06.94-2.06 2.06-.94-2.06-.94-.94-2.06-.94 2.06-2.06.94z\"/><path d=\"M17.41 7.96l-1.37-1.37c-.4-.4-.92-.59-1.43-.59-.52 0-1.04.2-1.43.59L10.3 9.45l-7.72 7.72c-.78.78-.78 2.05 0 2.83L4 21.41c.39.39.9.59 1.41.59.51 0 1.02-.2 1.41-.59l7.78-7.78 2.81-2.81c.8-.78.8-2.07 0-2.86zM5.41 20L4 18.59l7.72-7.72 1.47 1.35L5.41 20z\"/>\n",
              "  </svg>\n",
              "      </button>\n",
              "      \n",
              "  <style>\n",
              "    .colab-df-container {\n",
              "      display:flex;\n",
              "      flex-wrap:wrap;\n",
              "      gap: 12px;\n",
              "    }\n",
              "\n",
              "    .colab-df-convert {\n",
              "      background-color: #E8F0FE;\n",
              "      border: none;\n",
              "      border-radius: 50%;\n",
              "      cursor: pointer;\n",
              "      display: none;\n",
              "      fill: #1967D2;\n",
              "      height: 32px;\n",
              "      padding: 0 0 0 0;\n",
              "      width: 32px;\n",
              "    }\n",
              "\n",
              "    .colab-df-convert:hover {\n",
              "      background-color: #E2EBFA;\n",
              "      box-shadow: 0px 1px 2px rgba(60, 64, 67, 0.3), 0px 1px 3px 1px rgba(60, 64, 67, 0.15);\n",
              "      fill: #174EA6;\n",
              "    }\n",
              "\n",
              "    [theme=dark] .colab-df-convert {\n",
              "      background-color: #3B4455;\n",
              "      fill: #D2E3FC;\n",
              "    }\n",
              "\n",
              "    [theme=dark] .colab-df-convert:hover {\n",
              "      background-color: #434B5C;\n",
              "      box-shadow: 0px 1px 3px 1px rgba(0, 0, 0, 0.15);\n",
              "      filter: drop-shadow(0px 1px 2px rgba(0, 0, 0, 0.3));\n",
              "      fill: #FFFFFF;\n",
              "    }\n",
              "  </style>\n",
              "\n",
              "      <script>\n",
              "        const buttonEl =\n",
              "          document.querySelector('#df-e0090280-da3f-4a9f-b3ec-c6e2f45ba05b button.colab-df-convert');\n",
              "        buttonEl.style.display =\n",
              "          google.colab.kernel.accessAllowed ? 'block' : 'none';\n",
              "\n",
              "        async function convertToInteractive(key) {\n",
              "          const element = document.querySelector('#df-e0090280-da3f-4a9f-b3ec-c6e2f45ba05b');\n",
              "          const dataTable =\n",
              "            await google.colab.kernel.invokeFunction('convertToInteractive',\n",
              "                                                     [key], {});\n",
              "          if (!dataTable) return;\n",
              "\n",
              "          const docLinkHtml = 'Like what you see? Visit the ' +\n",
              "            '<a target=\"_blank\" href=https://colab.research.google.com/notebooks/data_table.ipynb>data table notebook</a>'\n",
              "            + ' to learn more about interactive tables.';\n",
              "          element.innerHTML = '';\n",
              "          dataTable['output_type'] = 'display_data';\n",
              "          await google.colab.output.renderOutput(dataTable, element);\n",
              "          const docLink = document.createElement('div');\n",
              "          docLink.innerHTML = docLinkHtml;\n",
              "          element.appendChild(docLink);\n",
              "        }\n",
              "      </script>\n",
              "    </div>\n",
              "  </div>\n",
              "  "
            ]
          },
          "metadata": {},
          "execution_count": 12
        }
      ],
      "source": [
        "# \"可以點這個連結來看data長怎樣\"\n",
        "# \"這個是emoji 對 [V,A]\"\n",
        "# !wget -q https://www.dropbox.com/s/e9bxb4qx19be6nn/face_with_va.csv\n",
        "# import pandas as pd\n",
        "# face_va = pd.read_csv(\"face_with_va.csv\")\n",
        "# face_va.head()\n",
        "# import pickle\n",
        "# def read_pkl(fname):\n",
        "#   with open(fname, \"rb\") as f:\n",
        "#     ret = pickle.load(f)\n",
        "#     f.close()\n",
        "#   return ret\n",
        "# \"key -> [V,A]\"\n",
        "# FVA = {k:[v,a] for k, v, a in zip(face_va['face'], face_va['V_norm'], face_va['A_norm'])}\n",
        "# \"check FVA, passed\"\n",
        "# for k, v in FVA.items():\n",
        "#   assert isinstance(k, str)\n",
        "#   assert isinstance(v[0], float)\n",
        "#   assert isinstance(v[1], float)"
      ]
    },
    {
      "cell_type": "markdown",
      "source": [
        "#### everytime you see '/drive' stuff, just skip"
      ],
      "metadata": {
        "id": "obSV-3ADT0t-"
      }
    },
    {
      "cell_type": "code",
      "source": [
        "# 用pseudo label\n",
        "!ls /content/drive/MyDrive/MiinWu"
      ],
      "metadata": {
        "colab": {
          "base_uri": "https://localhost:8080/"
        },
        "id": "REtjZvZFMRoN",
        "outputId": "b16844f8-7262-4988-e373-3c0395602957"
      },
      "execution_count": null,
      "outputs": [
        {
          "output_type": "stream",
          "name": "stdout",
          "text": [
            "DataPreprocess.ipynb   RawData\t    StealData_Selenium_Update.ipynb\n",
            "FinalPseudoData.jsonl  RawData.zip  TestDataFormat_MiinWu.txt\n"
          ]
        }
      ]
    },
    {
      "cell_type": "code",
      "source": [
        "!cp /content/drive/MyDrive/MiinWu/FinalPseudoData.jsonl /content\n",
        "!ls *jsonl"
      ],
      "metadata": {
        "colab": {
          "base_uri": "https://localhost:8080/"
        },
        "id": "cmAJBHW-MZVH",
        "outputId": "ef34a1bd-1456-482b-d97f-1312d4c3f709"
      },
      "execution_count": null,
      "outputs": [
        {
          "output_type": "stream",
          "name": "stdout",
          "text": [
            "FinalPseudoData.jsonl\n"
          ]
        }
      ]
    },
    {
      "cell_type": "markdown",
      "source": [
        "#### use this to load the pseudo labelled data\n",
        "#### if you use the .pbz2 one, run decompress_pickle() on the downloaded data"
      ],
      "metadata": {
        "id": "ASO6FEzhT4-V"
      }
    },
    {
      "cell_type": "code",
      "source": [
        "import bz2 # to zip a pickle object\n",
        "import pickle\n",
        "def decompress_pickle(file):\n",
        " data = bz2.BZ2File(file, 'rb')\n",
        " data = pickle.load(data)\n",
        " return data"
      ],
      "metadata": {
        "id": "p8mN3mppWuUr"
      },
      "execution_count": null,
      "outputs": []
    },
    {
      "cell_type": "code",
      "source": [
        "# load pseudo label data\n",
        "\n",
        "url = \"https://raw.githubusercontent.com/Kelvinthedrugger/EmoAI2023/master/data/FinalPseudoData.jsonl\"\n",
        "\n",
        "url_zipped = \"https://raw.githubusercontent.com/Kelvinthedrugger/EmoAI2023/master/data/FinalPseudoData_compressed.pbz2\"\n",
        "\n",
        "# one of url, url_zipped\n",
        "github_link_to_pseudo = ...\n",
        "\n",
        "!wget -q {github_link_to_pseudo}"
      ],
      "metadata": {
        "id": "xXyJl803TtI_"
      },
      "execution_count": null,
      "outputs": []
    },
    {
      "cell_type": "code",
      "source": [
        "# load it\n",
        "import json\n",
        "\n",
        "def get_jsonl_data(fname, dirname=\"\"):\n",
        "  return list(map(json.loads, open(f\"{dirname}{fname}\", \"r\")))\n",
        "\n",
        "pseudo_data = get_jsonl_data(\"FinalPseudoData.jsonl\")"
      ],
      "metadata": {
        "id": "GzA9IPY3Mmr1"
      },
      "execution_count": null,
      "outputs": []
    },
    {
      "cell_type": "code",
      "source": [
        "len(pseudo_data)"
      ],
      "metadata": {
        "colab": {
          "base_uri": "https://localhost:8080/"
        },
        "id": "aA_UYRAtNBd0",
        "outputId": "d53fa21d-446a-4ab9-8572-ec15b5e9d720"
      },
      "execution_count": null,
      "outputs": [
        {
          "output_type": "execute_result",
          "data": {
            "text/plain": [
              "42422"
            ]
          },
          "metadata": {},
          "execution_count": 18
        }
      ]
    },
    {
      "cell_type": "code",
      "source": [
        "pseudo_data[5]"
      ],
      "metadata": {
        "colab": {
          "base_uri": "https://localhost:8080/"
        },
        "id": "sLtGjU_ONDH9",
        "outputId": "b672c45a-44c0-496a-e758-a5f620e4b0ba"
      },
      "execution_count": null,
      "outputs": [
        {
          "output_type": "execute_result",
          "data": {
            "text/plain": [
              "{'X': ['【日劇】\\n下一個檔期追劇預定～\\n主演群竟然都是認識的名字\\n金曜ドラマ『トリリオンゲーム』【公式】 on Twitter',\n",
              "  '目黑蓮跟美櫻又共演了欸',\n",
              "  0.3844189017,\n",
              "  0.0,\n",
              "  0.8427672956,\n",
              "  0.0],\n",
              " 'Y': [0.4546615581, 0.7018867925]}"
            ]
          },
          "metadata": {},
          "execution_count": 19
        }
      ]
    },
    {
      "cell_type": "markdown",
      "source": [
        "#### keep going, randomize the data\n",
        "#### set seed to debug easier & reproduce the experimental result"
      ],
      "metadata": {
        "id": "yObHV5viT9St"
      }
    },
    {
      "cell_type": "code",
      "source": [
        "# [sent1, sent2, v_mean, v_std, a_mean, a_std]\n",
        "\n",
        "# train test split\n",
        "import random\n",
        "SEED = 1337\n",
        "random.seed(SEED)\n",
        "rdx = random.uniform # function to do randomization"
      ],
      "metadata": {
        "id": "PVaJ2rVcNvZT"
      },
      "execution_count": null,
      "outputs": []
    },
    {
      "cell_type": "code",
      "source": [
        "plurk_train, plurk_val, plurk_test = [], [], []\n",
        "\n",
        "#for ele in DS:\n",
        "#for ele in Data:\n",
        "for ele in pseudo_data:\n",
        "  sp = rdx(0,1)\n",
        "  if sp > 0.2:\n",
        "    plurk_train.append(ele)\n",
        "  elif sp > 0.1:\n",
        "    plurk_val.append(ele)\n",
        "  else:\n",
        "    plurk_test.append(ele)"
      ],
      "metadata": {
        "id": "z_N9DUuTOR6c"
      },
      "execution_count": null,
      "outputs": []
    },
    {
      "cell_type": "code",
      "source": [
        "len(plurk_train), len(plurk_val), len(plurk_test)"
      ],
      "metadata": {
        "colab": {
          "base_uri": "https://localhost:8080/"
        },
        "id": "tFA8EuaCOa91",
        "outputId": "4a3b919f-8560-4a82-b4f5-96ad2c5de99f"
      },
      "execution_count": null,
      "outputs": [
        {
          "output_type": "execute_result",
          "data": {
            "text/plain": [
              "(33918, 4218, 4286)"
            ]
          },
          "metadata": {},
          "execution_count": 22
        }
      ]
    },
    {
      "cell_type": "markdown",
      "metadata": {
        "id": "gtX5JkGsUVlI"
      },
      "source": [
        "### Training"
      ]
    },
    {
      "cell_type": "code",
      "execution_count": null,
      "metadata": {
        "id": "pHqiO54szF7r",
        "colab": {
          "base_uri": "https://localhost:8080/"
        },
        "outputId": "0a49ff1d-361e-4dcb-8bf4-03e0b30218f0"
      },
      "outputs": [
        {
          "output_type": "execute_result",
          "data": {
            "text/plain": [
              "device(type='cuda')"
            ]
          },
          "metadata": {},
          "execution_count": 23
        }
      ],
      "source": [
        "device = torch.device('cuda' if torch.cuda.is_available() else 'cpu')\n",
        "device"
      ]
    },
    {
      "cell_type": "code",
      "source": [
        "model.base_model.device"
      ],
      "metadata": {
        "colab": {
          "base_uri": "https://localhost:8080/"
        },
        "id": "8BrBvS7iPHhe",
        "outputId": "18a9ffdd-cd8c-4689-cb24-844b8941e083"
      },
      "execution_count": null,
      "outputs": [
        {
          "output_type": "execute_result",
          "data": {
            "text/plain": [
              "device(type='cpu')"
            ]
          },
          "metadata": {},
          "execution_count": 24
        }
      ]
    },
    {
      "cell_type": "code",
      "source": [
        "model.to(device)"
      ],
      "metadata": {
        "colab": {
          "base_uri": "https://localhost:8080/"
        },
        "id": "DWDOARr6PObf",
        "outputId": "7e2eb466-5084-41aa-f381-bdd59a0bab89"
      },
      "execution_count": null,
      "outputs": [
        {
          "output_type": "execute_result",
          "data": {
            "text/plain": [
              "NewEmoModel(\n",
              "  (base_model): RobertaModel(\n",
              "    (embeddings): RobertaEmbeddings(\n",
              "      (word_embeddings): Embedding(50265, 768, padding_idx=1)\n",
              "      (position_embeddings): Embedding(514, 768, padding_idx=1)\n",
              "      (token_type_embeddings): Embedding(1, 768)\n",
              "      (LayerNorm): LayerNorm((768,), eps=1e-05, elementwise_affine=True)\n",
              "      (dropout): Dropout(p=0.1, inplace=False)\n",
              "    )\n",
              "    (encoder): RobertaEncoder(\n",
              "      (layer): ModuleList(\n",
              "        (0-5): 6 x RobertaLayer(\n",
              "          (attention): RobertaAttention(\n",
              "            (self): RobertaSelfAttention(\n",
              "              (query): Linear(in_features=768, out_features=768, bias=True)\n",
              "              (key): Linear(in_features=768, out_features=768, bias=True)\n",
              "              (value): Linear(in_features=768, out_features=768, bias=True)\n",
              "              (dropout): Dropout(p=0.1, inplace=False)\n",
              "            )\n",
              "            (output): RobertaSelfOutput(\n",
              "              (dense): Linear(in_features=768, out_features=768, bias=True)\n",
              "              (LayerNorm): LayerNorm((768,), eps=1e-05, elementwise_affine=True)\n",
              "              (dropout): Dropout(p=0.1, inplace=False)\n",
              "            )\n",
              "          )\n",
              "          (intermediate): RobertaIntermediate(\n",
              "            (dense): Linear(in_features=768, out_features=3072, bias=True)\n",
              "            (intermediate_act_fn): GELUActivation()\n",
              "          )\n",
              "          (output): RobertaOutput(\n",
              "            (dense): Linear(in_features=3072, out_features=768, bias=True)\n",
              "            (LayerNorm): LayerNorm((768,), eps=1e-05, elementwise_affine=True)\n",
              "            (dropout): Dropout(p=0.1, inplace=False)\n",
              "          )\n",
              "        )\n",
              "      )\n",
              "    )\n",
              "  )\n",
              "  (classifier): Sequential(\n",
              "    (0): Dropout(p=0.05, inplace=False)\n",
              "    (1): Linear(in_features=768, out_features=768, bias=True)\n",
              "    (2): Mish()\n",
              "    (3): Dropout(p=0.05, inplace=False)\n",
              "    (4): Linear(in_features=768, out_features=2, bias=True)\n",
              "  )\n",
              "  (last_classifier): Sequential(\n",
              "    (0): Dropout(p=0.05, inplace=False)\n",
              "    (1): Linear(in_features=8, out_features=768, bias=True)\n",
              "    (2): Mish()\n",
              "    (3): Dropout(p=0.05, inplace=False)\n",
              "    (4): Linear(in_features=768, out_features=2, bias=True)\n",
              "  )\n",
              ")"
            ]
          },
          "metadata": {},
          "execution_count": 25
        }
      ]
    },
    {
      "cell_type": "code",
      "source": [
        "model.base_model.device"
      ],
      "metadata": {
        "colab": {
          "base_uri": "https://localhost:8080/"
        },
        "id": "up_JfA8xPUfW",
        "outputId": "e54939a5-0260-4431-ff77-f68cdc1fa191"
      },
      "execution_count": null,
      "outputs": [
        {
          "output_type": "execute_result",
          "data": {
            "text/plain": [
              "device(type='cuda', index=0)"
            ]
          },
          "metadata": {},
          "execution_count": 26
        }
      ]
    },
    {
      "cell_type": "markdown",
      "source": [
        "### Gradual unfreeze (the new version, the code way below is for reference only)"
      ],
      "metadata": {
        "id": "bq3zCn3YL0Ha"
      }
    },
    {
      "cell_type": "code",
      "source": [
        "\"freeze the base model & classifier, leave the last_classifier only for now\"\n",
        "#\"freeze all\"\n",
        "for layer in list(model.parameters()):\n",
        "  layer.requires_grad = False\n",
        "\n",
        "# unfreeze the last_classifier\n",
        "for layer in list(model.last_classifier.parameters()):\n",
        "  layer.requires_grad = True"
      ],
      "metadata": {
        "id": "LQyQGCjzL8DN"
      },
      "execution_count": null,
      "outputs": []
    },
    {
      "cell_type": "code",
      "source": [
        "from tqdm import tqdm"
      ],
      "metadata": {
        "id": "JSSx-PbhPcBn"
      },
      "execution_count": null,
      "outputs": []
    },
    {
      "cell_type": "markdown",
      "source": [
        "### 大概跑30分鐘\n",
        "### might take long, we haven't thought about how to do it with batch yet....\n",
        "### one easy way will be to do 'optimizer.step()' at desired batch size (aka, number of passed data)\n",
        "\n",
        "### 只用到差不多4GB的GPU RAM，想辦法增加使用率會trained的更快\n",
        "### 當然，也有可能只是因為我們只train last_classifier，所以才這麼省"
      ],
      "metadata": {
        "id": "IKbO4hMpPnQs"
      }
    },
    {
      "cell_type": "code",
      "source": [
        "torch.cuda.empty_cache()"
      ],
      "metadata": {
        "id": "PHzzwFmVRMuF"
      },
      "execution_count": null,
      "outputs": []
    },
    {
      "cell_type": "code",
      "source": [
        "\"we're doing regression!\"\n",
        "criterion = nn.MSELoss()\n",
        "# optimizer\n",
        "lr = 1e-4\n",
        "optimizer = AdamW(model.parameters(), lr=lr)\n",
        "optimizer.zero_grad()"
      ],
      "metadata": {
        "id": "NuDSkWu5TjtY",
        "colab": {
          "base_uri": "https://localhost:8080/"
        },
        "outputId": "cf8f4832-ad22-4524-8e45-ab389d80ad10"
      },
      "execution_count": null,
      "outputs": [
        {
          "output_type": "stream",
          "name": "stderr",
          "text": [
            "/usr/local/lib/python3.10/dist-packages/transformers/optimization.py:411: FutureWarning: This implementation of AdamW is deprecated and will be removed in a future version. Use the PyTorch implementation torch.optim.AdamW instead, or set `no_deprecation_warning=True` to disable this warning\n",
            "  warnings.warn(\n"
          ]
        }
      ]
    },
    {
      "cell_type": "code",
      "source": [
        "max_length = 512"
      ],
      "metadata": {
        "id": "b9AHhrkdVtf0"
      },
      "execution_count": null,
      "outputs": []
    },
    {
      "cell_type": "code",
      "source": [
        "batch_size = 256"
      ],
      "metadata": {
        "id": "geKiNDWUXUkq"
      },
      "execution_count": null,
      "outputs": []
    },
    {
      "cell_type": "code",
      "source": [
        "train_loss, val_loss = [], []"
      ],
      "metadata": {
        "id": "2z0yIunfYOO8"
      },
      "execution_count": null,
      "outputs": []
    },
    {
      "cell_type": "markdown",
      "source": [
        "#### 流程:\n",
        "\n",
        "先餵第一句:\n",
        "  * stats: data[3:]\n",
        "  * concat = txt = data[0]\n",
        "\n",
        "再第二句:\n",
        "  * stats: the interated ones\n",
        "  * concat: data[:2]\n",
        "  * txt: data[1]\n",
        "\n",
        "problem: 沒有第一句的[V,A]，aka, 沒有label\n",
        "\n",
        "-> 只能先train第二句"
      ],
      "metadata": {
        "id": "5-ZlIQjeSoVI"
      }
    },
    {
      "cell_type": "code",
      "source": [
        "def train_it():\n",
        "  model.train()\n",
        "\n",
        "  # forward pass\n",
        "\n",
        "  bs_count = 0 # to do batch size manually\n",
        "\n",
        "  for i in tqdm(range(len(plurk_train))):\n",
        "    data = plurk_train[i]['X']\n",
        "    VA = plurk_train[i]['Y']\n",
        "\n",
        "    # initialize stats\n",
        "    ln = 0 # the passed number of data\n",
        "    #stats = torch.tensor( [ [0, 0, 0, 0] ] ).cuda() # expected shape: (1,4) (or, (batch, 4))\n",
        "    stats = torch.tensor([data[2:]]).cuda() # expected shape: (1,4)\n",
        "\n",
        "    # text: list of (sent, [V,A])\n",
        "    #for idx in range(len(text)):\n",
        "    for idx in range(1): # the loop is not needed\n",
        "\n",
        "      # a: all the prev sentence\n",
        "      concat_text = data[0]\n",
        "      enc = tokenizer.encode_plus(concat_text, max_length=max_length, truncation=True, padding=True)\n",
        "      a = (torch.tensor(enc[\"input_ids\"]).unsqueeze(0).cuda(), torch.tensor(enc[\"attention_mask\"]).unsqueeze(0).cuda())\n",
        "\n",
        "      # b: current sentence only\n",
        "      txt = data[1]\n",
        "      enc = tokenizer.encode_plus(txt, max_length=max_length, truncation=True, padding=True)\n",
        "      b = (torch.tensor(enc[\"input_ids\"]).unsqueeze(0).cuda(), torch.tensor(enc[\"attention_mask\"]).unsqueeze(0).cuda())\n",
        "\n",
        "      out1 = model.forward_roberta(a) # Sk...j\n",
        "      out2 = model.forward_roberta(b) # Sj+1\n",
        "\n",
        "      ln += out1.shape[0] # the batch_size\n",
        "      ratio = out1.shape[0] / ln\n",
        "\n",
        "      # calculate & pass the stats of VA into last classifier\n",
        "      #in_f = torch.concat([out1, out2, stats[:,0:1], stats[:,1:2]**2/ln - stats[:,0:1], stats[:,2:3], stats[:,3:]**2/ln - stats[:,2:3]], dim=1)\n",
        "      in_f = torch.concat([out1, out2, stats], dim=1)\n",
        "\n",
        "      output = model.last_classifier(in_f) # shape: (1,2) (or, (bs, 2))\n",
        "\n",
        "      # since we only have 1 label -> don't have to update the stats\n",
        "      # update average & standard deviation (sigma(x**2) actually)\n",
        "      # stats[:,0] = stats[:,0] * (1-ratio) + output[:,0] * ratio\n",
        "      # stats[:,2] = stats[:,2] * (1-ratio) + output[:,1] * ratio\n",
        "      # stats[:,1] = stats[:,1]* (1-ratio) + output[:,0] ** 2 * ratio\n",
        "      # stats[:,3] = stats[:,3]* (1-ratio) + output[:,1] ** 2 * ratio\n",
        "\n",
        "      # loss & update model weight\n",
        "      loss = criterion(output, torch.tensor([VA]).cuda()) # the label is made up\n",
        "      loss.backward()\n",
        "\n",
        "      # count accumulated batch\n",
        "      bs_count += out1.shape[0]\n",
        "      if bs_count == batch_size or i == len(plurk_train)-1:\n",
        "        optimizer.step()\n",
        "        optimizer.zero_grad()\n",
        "        bs_count = 0\n",
        "\n",
        "      # record: don't be panic if the loss doesn't seem to vary fast\n",
        "      # , which dues to the 'manual batch update' stuff\n",
        "      train_loss.append(loss.item())"
      ],
      "metadata": {
        "id": "dulBtlytL7Ob"
      },
      "execution_count": null,
      "outputs": []
    },
    {
      "cell_type": "code",
      "source": [
        "train_it()"
      ],
      "metadata": {
        "colab": {
          "base_uri": "https://localhost:8080/"
        },
        "id": "VGdnrSEEqeD8",
        "outputId": "3024c1d7-a428-4823-9e65-8ba125856d75"
      },
      "execution_count": null,
      "outputs": [
        {
          "output_type": "stream",
          "name": "stderr",
          "text": [
            "100%|██████████| 33918/33918 [13:17<00:00, 42.54it/s]\n"
          ]
        }
      ]
    },
    {
      "cell_type": "code",
      "source": [
        "\"save the weight first\"\n",
        "import os\n",
        "weight_path = '/content/drive/MyDrive/EMO_AI_ver_2/model_weights/'\n",
        "os.path.isdir(weight_path)"
      ],
      "metadata": {
        "id": "3sRxPySDeq-n",
        "colab": {
          "base_uri": "https://localhost:8080/"
        },
        "outputId": "4450b1cb-2b2f-4e49-b4e5-b0ddd9f79940"
      },
      "execution_count": null,
      "outputs": [
        {
          "output_type": "execute_result",
          "data": {
            "text/plain": [
              "True"
            ]
          },
          "metadata": {},
          "execution_count": 36
        }
      ]
    },
    {
      "cell_type": "code",
      "source": [
        "\"check if it's file\"\n",
        "fname = \"0629_on_pseudo_right_epoch_1_seed_1337.pt\"\n",
        "PATH = weight_path + fname\n",
        "if os.path.isfile(PATH):\n",
        "  print(fname, \"is file, try again\")\n",
        "else:\n",
        "  torch.save(model.state_dict(), PATH)\n",
        "  print(\"model saved at\", PATH)"
      ],
      "metadata": {
        "colab": {
          "base_uri": "https://localhost:8080/"
        },
        "id": "UzsVZNbXe8qn",
        "outputId": "fe885b31-953d-4f6e-8c2b-4f63161ccfb6"
      },
      "execution_count": null,
      "outputs": [
        {
          "output_type": "stream",
          "name": "stdout",
          "text": [
            "model saved at /content/drive/MyDrive/EMO_AI_ver_2/model_weights/0629_on_pseudo_right_epoch_1_seed_1337.pt\n"
          ]
        }
      ]
    },
    {
      "cell_type": "code",
      "source": [
        "torch.cuda.empty_cache()"
      ],
      "metadata": {
        "id": "2qdMs4Y7gln0"
      },
      "execution_count": null,
      "outputs": []
    },
    {
      "cell_type": "code",
      "source": [
        "\"plot the train loss\"\n",
        "from matplotlib import pyplot as plt\n",
        "def plotit(inp_L, legends=None, y_lim=0.1, figsize=(12,8), title=None):\n",
        "  plt.figure(figsize=figsize)\n",
        "  lgnd = []\n",
        "  for inp in inp_L:\n",
        "    plt.plot(range(len(inp)), inp)\n",
        "\n",
        "  if legends is not None and isinstance(legends, list):\n",
        "    plt.legend(legends)\n",
        "  plt.ylim([0,y_lim])\n",
        "  if title is not None:\n",
        "    plt.title(title)\n",
        "  plt.show()"
      ],
      "metadata": {
        "id": "N4KgM47FhLry"
      },
      "execution_count": null,
      "outputs": []
    },
    {
      "cell_type": "code",
      "source": [
        "#plotit([train_loss, val_loss], [\"train_loss\", \"val_loss\"], y_lim=0.5, title=\"freezed until -2\")\n",
        "plotit([train_loss], [\"train_loss\"], y_lim=0.5, title=\"train loss: trained last classifier only\", figsize=(6, 3))"
      ],
      "metadata": {
        "colab": {
          "base_uri": "https://localhost:8080/",
          "height": 314
        },
        "id": "B4oWAbiohUld",
        "outputId": "c95fb8d1-345f-43d0-d3da-225c410eba74"
      },
      "execution_count": null,
      "outputs": [
        {
          "output_type": "display_data",
          "data": {
            "text/plain": [
              "<Figure size 600x300 with 1 Axes>"
            ],
            "image/png": "[encoded data removed]"
          },
          "metadata": {}
        }
      ]
    },
    {
      "cell_type": "code",
      "source": [
        "\"calculate the validation loss: just remove the gradient descent part\"\n",
        "def val_it():\n",
        "  with torch.no_grad():\n",
        "    model.eval()\n",
        "    #... forward pass\n",
        "\n",
        "    for i in tqdm(range(len(plurk_val))):\n",
        "      data = plurk_val[i]['X']\n",
        "      VA = plurk_val[i]['Y']\n",
        "\n",
        "      ln = 0 # the passed number of data\n",
        "      stats = torch.tensor([data[2:]]) # expected shape: (1,4)\n",
        "\n",
        "      # text: list of (sent, [V,A])\n",
        "      for idx in range(1):\n",
        "\n",
        "        # a: concat'ed sentence\n",
        "        concat_text = data[0]\n",
        "\n",
        "        enc = tokenizer.encode_plus(concat_text, max_length=max_length, truncation=True, padding=True)\n",
        "        a = (torch.tensor(enc[\"input_ids\"]).unsqueeze(0).cuda(), torch.tensor(enc[\"attention_mask\"]).unsqueeze(0).cuda())\n",
        "\n",
        "        # b: current sentence only\n",
        "        txt = data[1]\n",
        "        enc = tokenizer.encode_plus(txt, max_length=max_length, truncation=True, padding=True)\n",
        "        b = (torch.tensor(enc[\"input_ids\"]).unsqueeze(0).cuda(), torch.tensor(enc[\"attention_mask\"]).unsqueeze(0).cuda())\n",
        "\n",
        "        out1 = model.forward_roberta(a) # Sk...j\n",
        "        out2 = model.forward_roberta(b) # Sj+1\n",
        "\n",
        "        ln += out1.shape[0] # the batch_size\n",
        "        ratio = out1.shape[0] / ln\n",
        "\n",
        "        # calculate & pass the stats of VA into last classifier\n",
        "        #in_f = torch.concat([out1, out2, stats[:,0:1], stats[:,1:2]**2/ln - stats[:,0:1], stats[:,2:3], stats[:,3:]**2/ln - stats[:,2:3]], dim=1)\n",
        "        in_f = torch.concat([out1, out2, stats.cuda()], dim=1)\n",
        "\n",
        "        output = model.last_classifier(in_f) # shape: (1,2) (or, (bs, 2))\n",
        "\n",
        "        # # update average & standard deviation (sigma(x**2) actually)\n",
        "        # stats[:,0] = stats[:,0] * (1-ratio) + output[:,0] * ratio\n",
        "        # stats[:,2] = stats[:,2] * (1-ratio) + output[:,1] * ratio\n",
        "        # stats[:,1] = stats[:,1]* (1-ratio) + output[:,0] ** 2 * ratio\n",
        "        # stats[:,3] = stats[:,3]* (1-ratio) + output[:,1] ** 2 * ratio\n",
        "\n",
        "        # loss & update model weight\n",
        "        loss = criterion(output, torch.tensor([VA]).cuda()) # the label is made up\n",
        "\n",
        "        val_loss.append(loss.item())"
      ],
      "metadata": {
        "id": "kxPsjDkmTK1p"
      },
      "execution_count": null,
      "outputs": []
    },
    {
      "cell_type": "code",
      "source": [
        "val_it()"
      ],
      "metadata": {
        "colab": {
          "base_uri": "https://localhost:8080/"
        },
        "id": "PGt5vaJCqyeZ",
        "outputId": "6cca9b1a-b87f-4438-e2af-859f32f2085a"
      },
      "execution_count": null,
      "outputs": [
        {
          "output_type": "stream",
          "name": "stderr",
          "text": [
            "100%|██████████| 4218/4218 [01:37<00:00, 43.28it/s]\n"
          ]
        }
      ]
    },
    {
      "cell_type": "code",
      "source": [
        "plotit([val_loss], [\"val_loss\"], y_lim=0.5, title=\"validation loss: trained last classifier only\", figsize=(6, 3))"
      ],
      "metadata": {
        "colab": {
          "base_uri": "https://localhost:8080/",
          "height": 314
        },
        "id": "pWSvkNwOhvyv",
        "outputId": "0227e6e3-078b-4596-9f76-d3c66db43684"
      },
      "execution_count": null,
      "outputs": [
        {
          "output_type": "display_data",
          "data": {
            "text/plain": [
              "<Figure size 600x300 with 1 Axes>"
            ],
            "image/png": "[encoded data removed]"
          },
          "metadata": {}
        }
      ]
    },
    {
      "cell_type": "markdown",
      "source": [
        "### unfreeze 'model.classifier' & lower the learning rate"
      ],
      "metadata": {
        "id": "bMLHeH_2jEfT"
      }
    },
    {
      "cell_type": "code",
      "source": [
        "for layer in list(model.classifier.parameters()):\n",
        "  layer.requires_grad = True"
      ],
      "metadata": {
        "id": "t4MiAd5cj0r8"
      },
      "execution_count": null,
      "outputs": []
    },
    {
      "cell_type": "code",
      "source": [
        "lr = 1e-4/2\n",
        "\n",
        "optimizer = AdamW(model.parameters(), lr=lr)\n",
        "optimizer.zero_grad()"
      ],
      "metadata": {
        "colab": {
          "base_uri": "https://localhost:8080/"
        },
        "id": "7TpDWIaZisiX",
        "outputId": "744aa166-a545-4ffd-f92b-bdacdf912f07"
      },
      "execution_count": null,
      "outputs": [
        {
          "output_type": "stream",
          "name": "stderr",
          "text": [
            "/usr/local/lib/python3.10/dist-packages/transformers/optimization.py:411: FutureWarning: This implementation of AdamW is deprecated and will be removed in a future version. Use the PyTorch implementation torch.optim.AdamW instead, or set `no_deprecation_warning=True` to disable this warning\n",
            "  warnings.warn(\n"
          ]
        }
      ]
    },
    {
      "cell_type": "markdown",
      "source": [
        "#### pay attention to 'stats', too"
      ],
      "metadata": {
        "id": "G3D6S6DojkfO"
      }
    },
    {
      "cell_type": "code",
      "source": [
        "train_it()"
      ],
      "metadata": {
        "colab": {
          "base_uri": "https://localhost:8080/"
        },
        "id": "rljTm-YljYpE",
        "outputId": "89bc851c-ecc2-4876-d426-7681ce613e86"
      },
      "execution_count": null,
      "outputs": [
        {
          "output_type": "stream",
          "name": "stderr",
          "text": [
            "100%|██████████| 33918/33918 [12:51<00:00, 43.95it/s]\n"
          ]
        }
      ]
    },
    {
      "cell_type": "code",
      "source": [
        "plotit([train_loss], [\"train_loss\"], y_lim=0.5, title=\"train loss: classifier + last classifier\", figsize=(6, 3))"
      ],
      "metadata": {
        "colab": {
          "base_uri": "https://localhost:8080/",
          "height": 314
        },
        "id": "9KB0JQsYrOSR",
        "outputId": "63c5b4fb-0c73-4435-d2f2-eb76675ee328"
      },
      "execution_count": null,
      "outputs": [
        {
          "output_type": "display_data",
          "data": {
            "text/plain": [
              "<Figure size 600x300 with 1 Axes>"
            ],
            "image/png": "[encoded data removed]"
          },
          "metadata": {}
        }
      ]
    },
    {
      "cell_type": "code",
      "source": [
        "weight_path"
      ],
      "metadata": {
        "colab": {
          "base_uri": "https://localhost:8080/",
          "height": 37
        },
        "id": "DH0XUbxBsQts",
        "outputId": "12ebbd3c-c23c-44ec-8011-bc9d3f968a7a"
      },
      "execution_count": null,
      "outputs": [
        {
          "output_type": "execute_result",
          "data": {
            "text/plain": [
              "'/content/drive/MyDrive/EMO_AI_ver_2/model_weights/'"
            ],
            "application/vnd.google.colaboratory.intrinsic+json": {
              "type": "string"
            }
          },
          "metadata": {},
          "execution_count": 48
        }
      ]
    },
    {
      "cell_type": "code",
      "source": [
        "\"save weight again\"\n",
        "fname_classifier = \"0629_on_pseudo_right_1_epoch_classifier_unfreezed.pt\"\n",
        "if os.path.isfile(weight_path + fname_classifier):\n",
        "  print(fname_classifier,\"is file, try again\")\n",
        "else:\n",
        "  torch.save(model.state_dict, weight_path + fname_classifier)\n",
        "  print(weight_path + fname_classifier, \"saved!\")"
      ],
      "metadata": {
        "colab": {
          "base_uri": "https://localhost:8080/"
        },
        "id": "mdfi8J3_sHeM",
        "outputId": "42e7a95d-ac0a-4f3e-89d1-99ebfcaee8d2"
      },
      "execution_count": null,
      "outputs": [
        {
          "output_type": "stream",
          "name": "stdout",
          "text": [
            "/content/drive/MyDrive/EMO_AI_ver_2/model_weights/0629_on_pseudo_right_1_epoch_classifier_unfreezed.pt saved!\n"
          ]
        }
      ]
    },
    {
      "cell_type": "code",
      "source": [
        "val_it()"
      ],
      "metadata": {
        "colab": {
          "base_uri": "https://localhost:8080/"
        },
        "id": "rHyF5CC3aZE5",
        "outputId": "aeb5793e-1779-4bc4-d8e4-cd1145e5ad26"
      },
      "execution_count": null,
      "outputs": [
        {
          "output_type": "stream",
          "name": "stderr",
          "text": [
            "100%|██████████| 4218/4218 [01:24<00:00, 50.15it/s]\n"
          ]
        }
      ]
    },
    {
      "cell_type": "code",
      "source": [
        "plotit([val_loss], [\"val_loss\"], y_lim=0.5, title=\"val loss: classifier + last classifier\", figsize=(6, 3))"
      ],
      "metadata": {
        "colab": {
          "base_uri": "https://localhost:8080/",
          "height": 314
        },
        "id": "jh9uF9gxkYiy",
        "outputId": "26cedc89-fe62-4496-9bda-54cf72106814"
      },
      "execution_count": null,
      "outputs": [
        {
          "output_type": "display_data",
          "data": {
            "text/plain": [
              "<Figure size 600x300 with 1 Axes>"
            ],
            "image/png": "[encoded data removed]"
          },
          "metadata": {}
        }
      ]
    },
    {
      "cell_type": "code",
      "source": [],
      "metadata": {
        "id": "chBjTKIrtrXH"
      },
      "execution_count": null,
      "outputs": []
    },
    {
      "cell_type": "markdown",
      "source": [
        "### unfreeze all"
      ],
      "metadata": {
        "id": "Z2yjW0vks3ut"
      }
    },
    {
      "cell_type": "code",
      "source": [
        "for layer in list(model.base_model.parameters()):\n",
        "  layer.requires_grad = True"
      ],
      "metadata": {
        "id": "2-EZ5hoFs49y"
      },
      "execution_count": null,
      "outputs": []
    },
    {
      "cell_type": "code",
      "source": [
        "\"lower learning rate again\"\n",
        "lr = 1e-5\n",
        "optimizer = AdamW(model.parameters(), lr=lr)\n",
        "optimizer.zero_grad()"
      ],
      "metadata": {
        "id": "WigmchoEtD6A"
      },
      "execution_count": null,
      "outputs": []
    },
    {
      "cell_type": "code",
      "source": [
        "train_it()"
      ],
      "metadata": {
        "colab": {
          "base_uri": "https://localhost:8080/"
        },
        "id": "UZ3RahwgrlGv",
        "outputId": "cecbe956-99e1-4474-b394-2132ced2be16"
      },
      "execution_count": null,
      "outputs": [
        {
          "output_type": "stream",
          "name": "stderr",
          "text": [
            "100%|██████████| 33918/33918 [34:38<00:00, 16.32it/s]\n"
          ]
        }
      ]
    },
    {
      "cell_type": "code",
      "source": [
        "# plot\n",
        "plotit([train_loss], [\"train_loss\"], y_lim=0.5, title=\"train loss: unfreeze all\", figsize=(6, 3))"
      ],
      "metadata": {
        "colab": {
          "base_uri": "https://localhost:8080/"
        },
        "id": "DBq6VKBQtQec",
        "outputId": "577f7973-6549-44de-dbc4-8c13fc1f3916"
      },
      "execution_count": null,
      "outputs": [
        {
          "output_type": "display_data",
          "data": {
            "text/plain": [
              "<Figure size 600x300 with 1 Axes>"
            ],
            "image/png": "[encoded data removed]"
          },
          "metadata": {}
        }
      ]
    },
    {
      "cell_type": "code",
      "source": [
        "# save weight\n",
        "\"save weight again\"\n",
        "fname_final = \"0629_on_pseudo_right_1_epoch_all_unfreezed.pt\"\n",
        "if os.path.isfile(weight_path + fname_final):\n",
        "  print(fname_final,\"is file, try again\")\n",
        "else:\n",
        "  torch.save(model.state_dict, weight_path + fname_final)\n",
        "  print(weight_path + fname_final, \"saved!\")"
      ],
      "metadata": {
        "colab": {
          "base_uri": "https://localhost:8080/"
        },
        "id": "3iyam8vFtTBN",
        "outputId": "55deb167-db13-4678-f1fe-5e81f2dc70f9"
      },
      "execution_count": null,
      "outputs": [
        {
          "output_type": "stream",
          "name": "stdout",
          "text": [
            "/content/drive/MyDrive/EMO_AI_ver_2/model_weights/0629_on_pseudo_right_1_epoch_all_unfreezed.pt saved!\n"
          ]
        }
      ]
    },
    {
      "cell_type": "code",
      "source": [
        "val_it()"
      ],
      "metadata": {
        "colab": {
          "base_uri": "https://localhost:8080/"
        },
        "id": "z3YVxIFctRNT",
        "outputId": "1d201c2d-4d24-4aca-ecf8-7122dbfceba0"
      },
      "execution_count": null,
      "outputs": [
        {
          "output_type": "stream",
          "name": "stderr",
          "text": [
            "100%|██████████| 4218/4218 [01:23<00:00, 50.48it/s]\n"
          ]
        }
      ]
    },
    {
      "cell_type": "code",
      "source": [
        "# plot\n",
        "plotit([val_loss], [\"val_loss\"], y_lim=0.5, title=\"val loss: unfreeze all\", figsize=(6, 3))"
      ],
      "metadata": {
        "colab": {
          "base_uri": "https://localhost:8080/"
        },
        "id": "UxpOqVz2tR17",
        "outputId": "533642c2-fbb5-48e1-b1a6-11df72a0933f"
      },
      "execution_count": null,
      "outputs": [
        {
          "output_type": "display_data",
          "data": {
            "text/plain": [
              "<Figure size 600x300 with 1 Axes>"
            ],
            "image/png": "[encoded data removed]"
          },
          "metadata": {}
        }
      ]
    },
    {
      "cell_type": "code",
      "source": [
        "torch.cuda.empty_cache()"
      ],
      "metadata": {
        "id": "5Ko2dQc6ABIX"
      },
      "execution_count": null,
      "outputs": []
    },
    {
      "cell_type": "code",
      "source": [],
      "metadata": {
        "id": "rS-Nom8CtUY9"
      },
      "execution_count": null,
      "outputs": []
    }
  ],
  "metadata": {
    "colab": {
      "collapsed_sections": [
        "RFa2pUXcvYWa",
        "dw29ZqVzvbzp",
        "ebKcXm7oiHoa",
        "2tO9IGuBti3S",
        "_xffJm1uwCDT",
        "UsS15Vo20-LH",
        "f_YyVVB0-zKc",
        "pheZfLJXDVtU"
      ],
      "provenance": [],
      "gpuType": "T4"
    },
    "kernelspec": {
      "display_name": "Python 3",
      "name": "python3"
    },
    "language_info": {
      "name": "python",
      "version": "3.7.9"
    },
    "vscode": {
      "interpreter": {
        "hash": "c56cc201f676f664f151ba484ed4943d7f34dbf6a5c25e8d66425f202492a767"
      }
    },
    "widgets": {
      "application/vnd.jupyter.widget-state+json": {
        "a8648a9215fd434a98343262e6ab8a9a": {
          "model_module": "@jupyter-widgets/controls",
          "model_name": "HBoxModel",
          "model_module_version": "1.5.0",
          "state": {
            "_dom_classes": [],
            "_model_module": "@jupyter-widgets/controls",
            "_model_module_version": "1.5.0",
            "_model_name": "HBoxModel",
            "_view_count": null,
            "_view_module": "@jupyter-widgets/controls",
            "_view_module_version": "1.5.0",
            "_view_name": "HBoxView",
            "box_style": "",
            "children": [
              "IPY_MODEL_8d496dc2f33f4bd88906a03f68cfb9df",
              "IPY_MODEL_75b231b4d019405095c3dbae81e6ac50",
              "IPY_MODEL_3300aaeb42d14118b896473268342ae3"
            ],
            "layout": "IPY_MODEL_43fdc94d09e84ad0ad83f38e6e021662"
          }
        },
        "8d496dc2f33f4bd88906a03f68cfb9df": {
          "model_module": "@jupyter-widgets/controls",
          "model_name": "HTMLModel",
          "model_module_version": "1.5.0",
          "state": {
            "_dom_classes": [],
            "_model_module": "@jupyter-widgets/controls",
            "_model_module_version": "1.5.0",
            "_model_name": "HTMLModel",
            "_view_count": null,
            "_view_module": "@jupyter-widgets/controls",
            "_view_module_version": "1.5.0",
            "_view_name": "HTMLView",
            "description": "",
            "description_tooltip": null,
            "layout": "IPY_MODEL_81a94a327451467bad624d70320267de",
            "placeholder": "​",
            "style": "IPY_MODEL_d4a6b5c62507408b922a6453342faee3",
            "value": "Downloading (…)lve/main/config.json: 100%"
          }
        },
        "75b231b4d019405095c3dbae81e6ac50": {
          "model_module": "@jupyter-widgets/controls",
          "model_name": "FloatProgressModel",
          "model_module_version": "1.5.0",
          "state": {
            "_dom_classes": [],
            "_model_module": "@jupyter-widgets/controls",
            "_model_module_version": "1.5.0",
            "_model_name": "FloatProgressModel",
            "_view_count": null,
            "_view_module": "@jupyter-widgets/controls",
            "_view_module_version": "1.5.0",
            "_view_name": "ProgressView",
            "bar_style": "success",
            "description": "",
            "description_tooltip": null,
            "layout": "IPY_MODEL_7160cb45163a44bab89142b12e9537d9",
            "max": 480,
            "min": 0,
            "orientation": "horizontal",
            "style": "IPY_MODEL_d0282f6afa064477aa09f063b63bc2e9",
            "value": 480
          }
        },
        "3300aaeb42d14118b896473268342ae3": {
          "model_module": "@jupyter-widgets/controls",
          "model_name": "HTMLModel",
          "model_module_version": "1.5.0",
          "state": {
            "_dom_classes": [],
            "_model_module": "@jupyter-widgets/controls",
            "_model_module_version": "1.5.0",
            "_model_name": "HTMLModel",
            "_view_count": null,
            "_view_module": "@jupyter-widgets/controls",
            "_view_module_version": "1.5.0",
            "_view_name": "HTMLView",
            "description": "",
            "description_tooltip": null,
            "layout": "IPY_MODEL_9f56c61a0c714b9d809a3d0b99aea2f7",
            "placeholder": "​",
            "style": "IPY_MODEL_66e8cc9dcd1f4b60b06a02f05558f7f3",
            "value": " 480/480 [00:00&lt;00:00, 11.8kB/s]"
          }
        },
        "43fdc94d09e84ad0ad83f38e6e021662": {
          "model_module": "@jupyter-widgets/base",
          "model_name": "LayoutModel",
          "model_module_version": "1.2.0",
          "state": {
            "_model_module": "@jupyter-widgets/base",
            "_model_module_version": "1.2.0",
            "_model_name": "LayoutModel",
            "_view_count": null,
            "_view_module": "@jupyter-widgets/base",
            "_view_module_version": "1.2.0",
            "_view_name": "LayoutView",
            "align_content": null,
            "align_items": null,
            "align_self": null,
            "border": null,
            "bottom": null,
            "display": null,
            "flex": null,
            "flex_flow": null,
            "grid_area": null,
            "grid_auto_columns": null,
            "grid_auto_flow": null,
            "grid_auto_rows": null,
            "grid_column": null,
            "grid_gap": null,
            "grid_row": null,
            "grid_template_areas": null,
            "grid_template_columns": null,
            "grid_template_rows": null,
            "height": null,
            "justify_content": null,
            "justify_items": null,
            "left": null,
            "margin": null,
            "max_height": null,
            "max_width": null,
            "min_height": null,
            "min_width": null,
            "object_fit": null,
            "object_position": null,
            "order": null,
            "overflow": null,
            "overflow_x": null,
            "overflow_y": null,
            "padding": null,
            "right": null,
            "top": null,
            "visibility": null,
            "width": null
          }
        },
        "81a94a327451467bad624d70320267de": {
          "model_module": "@jupyter-widgets/base",
          "model_name": "LayoutModel",
          "model_module_version": "1.2.0",
          "state": {
            "_model_module": "@jupyter-widgets/base",
            "_model_module_version": "1.2.0",
            "_model_name": "LayoutModel",
            "_view_count": null,
            "_view_module": "@jupyter-widgets/base",
            "_view_module_version": "1.2.0",
            "_view_name": "LayoutView",
            "align_content": null,
            "align_items": null,
            "align_self": null,
            "border": null,
            "bottom": null,
            "display": null,
            "flex": null,
            "flex_flow": null,
            "grid_area": null,
            "grid_auto_columns": null,
            "grid_auto_flow": null,
            "grid_auto_rows": null,
            "grid_column": null,
            "grid_gap": null,
            "grid_row": null,
            "grid_template_areas": null,
            "grid_template_columns": null,
            "grid_template_rows": null,
            "height": null,
            "justify_content": null,
            "justify_items": null,
            "left": null,
            "margin": null,
            "max_height": null,
            "max_width": null,
            "min_height": null,
            "min_width": null,
            "object_fit": null,
            "object_position": null,
            "order": null,
            "overflow": null,
            "overflow_x": null,
            "overflow_y": null,
            "padding": null,
            "right": null,
            "top": null,
            "visibility": null,
            "width": null
          }
        },
        "d4a6b5c62507408b922a6453342faee3": {
          "model_module": "@jupyter-widgets/controls",
          "model_name": "DescriptionStyleModel",
          "model_module_version": "1.5.0",
          "state": {
            "_model_module": "@jupyter-widgets/controls",
            "_model_module_version": "1.5.0",
            "_model_name": "DescriptionStyleModel",
            "_view_count": null,
            "_view_module": "@jupyter-widgets/base",
            "_view_module_version": "1.2.0",
            "_view_name": "StyleView",
            "description_width": ""
          }
        },
        "7160cb45163a44bab89142b12e9537d9": {
          "model_module": "@jupyter-widgets/base",
          "model_name": "LayoutModel",
          "model_module_version": "1.2.0",
          "state": {
            "_model_module": "@jupyter-widgets/base",
            "_model_module_version": "1.2.0",
            "_model_name": "LayoutModel",
            "_view_count": null,
            "_view_module": "@jupyter-widgets/base",
            "_view_module_version": "1.2.0",
            "_view_name": "LayoutView",
            "align_content": null,
            "align_items": null,
            "align_self": null,
            "border": null,
            "bottom": null,
            "display": null,
            "flex": null,
            "flex_flow": null,
            "grid_area": null,
            "grid_auto_columns": null,
            "grid_auto_flow": null,
            "grid_auto_rows": null,
            "grid_column": null,
            "grid_gap": null,
            "grid_row": null,
            "grid_template_areas": null,
            "grid_template_columns": null,
            "grid_template_rows": null,
            "height": null,
            "justify_content": null,
            "justify_items": null,
            "left": null,
            "margin": null,
            "max_height": null,
            "max_width": null,
            "min_height": null,
            "min_width": null,
            "object_fit": null,
            "object_position": null,
            "order": null,
            "overflow": null,
            "overflow_x": null,
            "overflow_y": null,
            "padding": null,
            "right": null,
            "top": null,
            "visibility": null,
            "width": null
          }
        },
        "d0282f6afa064477aa09f063b63bc2e9": {
          "model_module": "@jupyter-widgets/controls",
          "model_name": "ProgressStyleModel",
          "model_module_version": "1.5.0",
          "state": {
            "_model_module": "@jupyter-widgets/controls",
            "_model_module_version": "1.5.0",
            "_model_name": "ProgressStyleModel",
            "_view_count": null,
            "_view_module": "@jupyter-widgets/base",
            "_view_module_version": "1.2.0",
            "_view_name": "StyleView",
            "bar_color": null,
            "description_width": ""
          }
        },
        "9f56c61a0c714b9d809a3d0b99aea2f7": {
          "model_module": "@jupyter-widgets/base",
          "model_name": "LayoutModel",
          "model_module_version": "1.2.0",
          "state": {
            "_model_module": "@jupyter-widgets/base",
            "_model_module_version": "1.2.0",
            "_model_name": "LayoutModel",
            "_view_count": null,
            "_view_module": "@jupyter-widgets/base",
            "_view_module_version": "1.2.0",
            "_view_name": "LayoutView",
            "align_content": null,
            "align_items": null,
            "align_self": null,
            "border": null,
            "bottom": null,
            "display": null,
            "flex": null,
            "flex_flow": null,
            "grid_area": null,
            "grid_auto_columns": null,
            "grid_auto_flow": null,
            "grid_auto_rows": null,
            "grid_column": null,
            "grid_gap": null,
            "grid_row": null,
            "grid_template_areas": null,
            "grid_template_columns": null,
            "grid_template_rows": null,
            "height": null,
            "justify_content": null,
            "justify_items": null,
            "left": null,
            "margin": null,
            "max_height": null,
            "max_width": null,
            "min_height": null,
            "min_width": null,
            "object_fit": null,
            "object_position": null,
            "order": null,
            "overflow": null,
            "overflow_x": null,
            "overflow_y": null,
            "padding": null,
            "right": null,
            "top": null,
            "visibility": null,
            "width": null
          }
        },
        "66e8cc9dcd1f4b60b06a02f05558f7f3": {
          "model_module": "@jupyter-widgets/controls",
          "model_name": "DescriptionStyleModel",
          "model_module_version": "1.5.0",
          "state": {
            "_model_module": "@jupyter-widgets/controls",
            "_model_module_version": "1.5.0",
            "_model_name": "DescriptionStyleModel",
            "_view_count": null,
            "_view_module": "@jupyter-widgets/base",
            "_view_module_version": "1.2.0",
            "_view_name": "StyleView",
            "description_width": ""
          }
        },
        "442157f8753f47e58d8e9188bea8a1b9": {
          "model_module": "@jupyter-widgets/controls",
          "model_name": "HBoxModel",
          "model_module_version": "1.5.0",
          "state": {
            "_dom_classes": [],
            "_model_module": "@jupyter-widgets/controls",
            "_model_module_version": "1.5.0",
            "_model_name": "HBoxModel",
            "_view_count": null,
            "_view_module": "@jupyter-widgets/controls",
            "_view_module_version": "1.5.0",
            "_view_name": "HBoxView",
            "box_style": "",
            "children": [
              "IPY_MODEL_95313369998442da91bb0c506659f0ad",
              "IPY_MODEL_7fce2b7b56dc4e0e96a1d1ce7479d1c5",
              "IPY_MODEL_c75ed05355514b348aade266843b75c5"
            ],
            "layout": "IPY_MODEL_96f03d882a9549658a18aacb2310a6b6"
          }
        },
        "95313369998442da91bb0c506659f0ad": {
          "model_module": "@jupyter-widgets/controls",
          "model_name": "HTMLModel",
          "model_module_version": "1.5.0",
          "state": {
            "_dom_classes": [],
            "_model_module": "@jupyter-widgets/controls",
            "_model_module_version": "1.5.0",
            "_model_name": "HTMLModel",
            "_view_count": null,
            "_view_module": "@jupyter-widgets/controls",
            "_view_module_version": "1.5.0",
            "_view_name": "HTMLView",
            "description": "",
            "description_tooltip": null,
            "layout": "IPY_MODEL_59d3769e7c414798ae5fa316b5725300",
            "placeholder": "​",
            "style": "IPY_MODEL_473569bfd0ca4c708fa95b6bad736ec3",
            "value": "Downloading (…)olve/main/vocab.json: 100%"
          }
        },
        "7fce2b7b56dc4e0e96a1d1ce7479d1c5": {
          "model_module": "@jupyter-widgets/controls",
          "model_name": "FloatProgressModel",
          "model_module_version": "1.5.0",
          "state": {
            "_dom_classes": [],
            "_model_module": "@jupyter-widgets/controls",
            "_model_module_version": "1.5.0",
            "_model_name": "FloatProgressModel",
            "_view_count": null,
            "_view_module": "@jupyter-widgets/controls",
            "_view_module_version": "1.5.0",
            "_view_name": "ProgressView",
            "bar_style": "success",
            "description": "",
            "description_tooltip": null,
            "layout": "IPY_MODEL_1935e401101f43cd91853a11d40d3374",
            "max": 898823,
            "min": 0,
            "orientation": "horizontal",
            "style": "IPY_MODEL_62c525c5385d4400ad293deb4063ee9a",
            "value": 898823
          }
        },
        "c75ed05355514b348aade266843b75c5": {
          "model_module": "@jupyter-widgets/controls",
          "model_name": "HTMLModel",
          "model_module_version": "1.5.0",
          "state": {
            "_dom_classes": [],
            "_model_module": "@jupyter-widgets/controls",
            "_model_module_version": "1.5.0",
            "_model_name": "HTMLModel",
            "_view_count": null,
            "_view_module": "@jupyter-widgets/controls",
            "_view_module_version": "1.5.0",
            "_view_name": "HTMLView",
            "description": "",
            "description_tooltip": null,
            "layout": "IPY_MODEL_674ba2a2a4ff4c3d9860b89b12be23fa",
            "placeholder": "​",
            "style": "IPY_MODEL_cd16b0dff84a4c89888c6d5155e2edb6",
            "value": " 899k/899k [00:00&lt;00:00, 32.6MB/s]"
          }
        },
        "96f03d882a9549658a18aacb2310a6b6": {
          "model_module": "@jupyter-widgets/base",
          "model_name": "LayoutModel",
          "model_module_version": "1.2.0",
          "state": {
            "_model_module": "@jupyter-widgets/base",
            "_model_module_version": "1.2.0",
            "_model_name": "LayoutModel",
            "_view_count": null,
            "_view_module": "@jupyter-widgets/base",
            "_view_module_version": "1.2.0",
            "_view_name": "LayoutView",
            "align_content": null,
            "align_items": null,
            "align_self": null,
            "border": null,
            "bottom": null,
            "display": null,
            "flex": null,
            "flex_flow": null,
            "grid_area": null,
            "grid_auto_columns": null,
            "grid_auto_flow": null,
            "grid_auto_rows": null,
            "grid_column": null,
            "grid_gap": null,
            "grid_row": null,
            "grid_template_areas": null,
            "grid_template_columns": null,
            "grid_template_rows": null,
            "height": null,
            "justify_content": null,
            "justify_items": null,
            "left": null,
            "margin": null,
            "max_height": null,
            "max_width": null,
            "min_height": null,
            "min_width": null,
            "object_fit": null,
            "object_position": null,
            "order": null,
            "overflow": null,
            "overflow_x": null,
            "overflow_y": null,
            "padding": null,
            "right": null,
            "top": null,
            "visibility": null,
            "width": null
          }
        },
        "59d3769e7c414798ae5fa316b5725300": {
          "model_module": "@jupyter-widgets/base",
          "model_name": "LayoutModel",
          "model_module_version": "1.2.0",
          "state": {
            "_model_module": "@jupyter-widgets/base",
            "_model_module_version": "1.2.0",
            "_model_name": "LayoutModel",
            "_view_count": null,
            "_view_module": "@jupyter-widgets/base",
            "_view_module_version": "1.2.0",
            "_view_name": "LayoutView",
            "align_content": null,
            "align_items": null,
            "align_self": null,
            "border": null,
            "bottom": null,
            "display": null,
            "flex": null,
            "flex_flow": null,
            "grid_area": null,
            "grid_auto_columns": null,
            "grid_auto_flow": null,
            "grid_auto_rows": null,
            "grid_column": null,
            "grid_gap": null,
            "grid_row": null,
            "grid_template_areas": null,
            "grid_template_columns": null,
            "grid_template_rows": null,
            "height": null,
            "justify_content": null,
            "justify_items": null,
            "left": null,
            "margin": null,
            "max_height": null,
            "max_width": null,
            "min_height": null,
            "min_width": null,
            "object_fit": null,
            "object_position": null,
            "order": null,
            "overflow": null,
            "overflow_x": null,
            "overflow_y": null,
            "padding": null,
            "right": null,
            "top": null,
            "visibility": null,
            "width": null
          }
        },
        "473569bfd0ca4c708fa95b6bad736ec3": {
          "model_module": "@jupyter-widgets/controls",
          "model_name": "DescriptionStyleModel",
          "model_module_version": "1.5.0",
          "state": {
            "_model_module": "@jupyter-widgets/controls",
            "_model_module_version": "1.5.0",
            "_model_name": "DescriptionStyleModel",
            "_view_count": null,
            "_view_module": "@jupyter-widgets/base",
            "_view_module_version": "1.2.0",
            "_view_name": "StyleView",
            "description_width": ""
          }
        },
        "1935e401101f43cd91853a11d40d3374": {
          "model_module": "@jupyter-widgets/base",
          "model_name": "LayoutModel",
          "model_module_version": "1.2.0",
          "state": {
            "_model_module": "@jupyter-widgets/base",
            "_model_module_version": "1.2.0",
            "_model_name": "LayoutModel",
            "_view_count": null,
            "_view_module": "@jupyter-widgets/base",
            "_view_module_version": "1.2.0",
            "_view_name": "LayoutView",
            "align_content": null,
            "align_items": null,
            "align_self": null,
            "border": null,
            "bottom": null,
            "display": null,
            "flex": null,
            "flex_flow": null,
            "grid_area": null,
            "grid_auto_columns": null,
            "grid_auto_flow": null,
            "grid_auto_rows": null,
            "grid_column": null,
            "grid_gap": null,
            "grid_row": null,
            "grid_template_areas": null,
            "grid_template_columns": null,
            "grid_template_rows": null,
            "height": null,
            "justify_content": null,
            "justify_items": null,
            "left": null,
            "margin": null,
            "max_height": null,
            "max_width": null,
            "min_height": null,
            "min_width": null,
            "object_fit": null,
            "object_position": null,
            "order": null,
            "overflow": null,
            "overflow_x": null,
            "overflow_y": null,
            "padding": null,
            "right": null,
            "top": null,
            "visibility": null,
            "width": null
          }
        },
        "62c525c5385d4400ad293deb4063ee9a": {
          "model_module": "@jupyter-widgets/controls",
          "model_name": "ProgressStyleModel",
          "model_module_version": "1.5.0",
          "state": {
            "_model_module": "@jupyter-widgets/controls",
            "_model_module_version": "1.5.0",
            "_model_name": "ProgressStyleModel",
            "_view_count": null,
            "_view_module": "@jupyter-widgets/base",
            "_view_module_version": "1.2.0",
            "_view_name": "StyleView",
            "bar_color": null,
            "description_width": ""
          }
        },
        "674ba2a2a4ff4c3d9860b89b12be23fa": {
          "model_module": "@jupyter-widgets/base",
          "model_name": "LayoutModel",
          "model_module_version": "1.2.0",
          "state": {
            "_model_module": "@jupyter-widgets/base",
            "_model_module_version": "1.2.0",
            "_model_name": "LayoutModel",
            "_view_count": null,
            "_view_module": "@jupyter-widgets/base",
            "_view_module_version": "1.2.0",
            "_view_name": "LayoutView",
            "align_content": null,
            "align_items": null,
            "align_self": null,
            "border": null,
            "bottom": null,
            "display": null,
            "flex": null,
            "flex_flow": null,
            "grid_area": null,
            "grid_auto_columns": null,
            "grid_auto_flow": null,
            "grid_auto_rows": null,
            "grid_column": null,
            "grid_gap": null,
            "grid_row": null,
            "grid_template_areas": null,
            "grid_template_columns": null,
            "grid_template_rows": null,
            "height": null,
            "justify_content": null,
            "justify_items": null,
            "left": null,
            "margin": null,
            "max_height": null,
            "max_width": null,
            "min_height": null,
            "min_width": null,
            "object_fit": null,
            "object_position": null,
            "order": null,
            "overflow": null,
            "overflow_x": null,
            "overflow_y": null,
            "padding": null,
            "right": null,
            "top": null,
            "visibility": null,
            "width": null
          }
        },
        "cd16b0dff84a4c89888c6d5155e2edb6": {
          "model_module": "@jupyter-widgets/controls",
          "model_name": "DescriptionStyleModel",
          "model_module_version": "1.5.0",
          "state": {
            "_model_module": "@jupyter-widgets/controls",
            "_model_module_version": "1.5.0",
            "_model_name": "DescriptionStyleModel",
            "_view_count": null,
            "_view_module": "@jupyter-widgets/base",
            "_view_module_version": "1.2.0",
            "_view_name": "StyleView",
            "description_width": ""
          }
        },
        "237136d35beb447f819c845b672401c2": {
          "model_module": "@jupyter-widgets/controls",
          "model_name": "HBoxModel",
          "model_module_version": "1.5.0",
          "state": {
            "_dom_classes": [],
            "_model_module": "@jupyter-widgets/controls",
            "_model_module_version": "1.5.0",
            "_model_name": "HBoxModel",
            "_view_count": null,
            "_view_module": "@jupyter-widgets/controls",
            "_view_module_version": "1.5.0",
            "_view_name": "HBoxView",
            "box_style": "",
            "children": [
              "IPY_MODEL_23992c8b30da497e93479b29096ecf83",
              "IPY_MODEL_4f44478efe324b0c8b737c0fd06f126b",
              "IPY_MODEL_9de5e7bae8c94dbbaed8adbb68a4dc94"
            ],
            "layout": "IPY_MODEL_f0d9b080f4fe4f58aa8392fb5e456c9a"
          }
        },
        "23992c8b30da497e93479b29096ecf83": {
          "model_module": "@jupyter-widgets/controls",
          "model_name": "HTMLModel",
          "model_module_version": "1.5.0",
          "state": {
            "_dom_classes": [],
            "_model_module": "@jupyter-widgets/controls",
            "_model_module_version": "1.5.0",
            "_model_name": "HTMLModel",
            "_view_count": null,
            "_view_module": "@jupyter-widgets/controls",
            "_view_module_version": "1.5.0",
            "_view_name": "HTMLView",
            "description": "",
            "description_tooltip": null,
            "layout": "IPY_MODEL_0172fd57718a4a949b541f63e343c0e0",
            "placeholder": "​",
            "style": "IPY_MODEL_c8fa85b533c24d2093c3bfdeb4161551",
            "value": "Downloading (…)olve/main/merges.txt: 100%"
          }
        },
        "4f44478efe324b0c8b737c0fd06f126b": {
          "model_module": "@jupyter-widgets/controls",
          "model_name": "FloatProgressModel",
          "model_module_version": "1.5.0",
          "state": {
            "_dom_classes": [],
            "_model_module": "@jupyter-widgets/controls",
            "_model_module_version": "1.5.0",
            "_model_name": "FloatProgressModel",
            "_view_count": null,
            "_view_module": "@jupyter-widgets/controls",
            "_view_module_version": "1.5.0",
            "_view_name": "ProgressView",
            "bar_style": "success",
            "description": "",
            "description_tooltip": null,
            "layout": "IPY_MODEL_be6de8c82bf3408db3afec4fe38db144",
            "max": 456318,
            "min": 0,
            "orientation": "horizontal",
            "style": "IPY_MODEL_c97b3a8f1d8e4e4ca795b287cb7abea3",
            "value": 456318
          }
        },
        "9de5e7bae8c94dbbaed8adbb68a4dc94": {
          "model_module": "@jupyter-widgets/controls",
          "model_name": "HTMLModel",
          "model_module_version": "1.5.0",
          "state": {
            "_dom_classes": [],
            "_model_module": "@jupyter-widgets/controls",
            "_model_module_version": "1.5.0",
            "_model_name": "HTMLModel",
            "_view_count": null,
            "_view_module": "@jupyter-widgets/controls",
            "_view_module_version": "1.5.0",
            "_view_name": "HTMLView",
            "description": "",
            "description_tooltip": null,
            "layout": "IPY_MODEL_88c5d929d13c42a2be59e1645142d199",
            "placeholder": "​",
            "style": "IPY_MODEL_844b05b1256f4696a5fce7092c4fffac",
            "value": " 456k/456k [00:00&lt;00:00, 21.3MB/s]"
          }
        },
        "f0d9b080f4fe4f58aa8392fb5e456c9a": {
          "model_module": "@jupyter-widgets/base",
          "model_name": "LayoutModel",
          "model_module_version": "1.2.0",
          "state": {
            "_model_module": "@jupyter-widgets/base",
            "_model_module_version": "1.2.0",
            "_model_name": "LayoutModel",
            "_view_count": null,
            "_view_module": "@jupyter-widgets/base",
            "_view_module_version": "1.2.0",
            "_view_name": "LayoutView",
            "align_content": null,
            "align_items": null,
            "align_self": null,
            "border": null,
            "bottom": null,
            "display": null,
            "flex": null,
            "flex_flow": null,
            "grid_area": null,
            "grid_auto_columns": null,
            "grid_auto_flow": null,
            "grid_auto_rows": null,
            "grid_column": null,
            "grid_gap": null,
            "grid_row": null,
            "grid_template_areas": null,
            "grid_template_columns": null,
            "grid_template_rows": null,
            "height": null,
            "justify_content": null,
            "justify_items": null,
            "left": null,
            "margin": null,
            "max_height": null,
            "max_width": null,
            "min_height": null,
            "min_width": null,
            "object_fit": null,
            "object_position": null,
            "order": null,
            "overflow": null,
            "overflow_x": null,
            "overflow_y": null,
            "padding": null,
            "right": null,
            "top": null,
            "visibility": null,
            "width": null
          }
        },
        "0172fd57718a4a949b541f63e343c0e0": {
          "model_module": "@jupyter-widgets/base",
          "model_name": "LayoutModel",
          "model_module_version": "1.2.0",
          "state": {
            "_model_module": "@jupyter-widgets/base",
            "_model_module_version": "1.2.0",
            "_model_name": "LayoutModel",
            "_view_count": null,
            "_view_module": "@jupyter-widgets/base",
            "_view_module_version": "1.2.0",
            "_view_name": "LayoutView",
            "align_content": null,
            "align_items": null,
            "align_self": null,
            "border": null,
            "bottom": null,
            "display": null,
            "flex": null,
            "flex_flow": null,
            "grid_area": null,
            "grid_auto_columns": null,
            "grid_auto_flow": null,
            "grid_auto_rows": null,
            "grid_column": null,
            "grid_gap": null,
            "grid_row": null,
            "grid_template_areas": null,
            "grid_template_columns": null,
            "grid_template_rows": null,
            "height": null,
            "justify_content": null,
            "justify_items": null,
            "left": null,
            "margin": null,
            "max_height": null,
            "max_width": null,
            "min_height": null,
            "min_width": null,
            "object_fit": null,
            "object_position": null,
            "order": null,
            "overflow": null,
            "overflow_x": null,
            "overflow_y": null,
            "padding": null,
            "right": null,
            "top": null,
            "visibility": null,
            "width": null
          }
        },
        "c8fa85b533c24d2093c3bfdeb4161551": {
          "model_module": "@jupyter-widgets/controls",
          "model_name": "DescriptionStyleModel",
          "model_module_version": "1.5.0",
          "state": {
            "_model_module": "@jupyter-widgets/controls",
            "_model_module_version": "1.5.0",
            "_model_name": "DescriptionStyleModel",
            "_view_count": null,
            "_view_module": "@jupyter-widgets/base",
            "_view_module_version": "1.2.0",
            "_view_name": "StyleView",
            "description_width": ""
          }
        },
        "be6de8c82bf3408db3afec4fe38db144": {
          "model_module": "@jupyter-widgets/base",
          "model_name": "LayoutModel",
          "model_module_version": "1.2.0",
          "state": {
            "_model_module": "@jupyter-widgets/base",
            "_model_module_version": "1.2.0",
            "_model_name": "LayoutModel",
            "_view_count": null,
            "_view_module": "@jupyter-widgets/base",
            "_view_module_version": "1.2.0",
            "_view_name": "LayoutView",
            "align_content": null,
            "align_items": null,
            "align_self": null,
            "border": null,
            "bottom": null,
            "display": null,
            "flex": null,
            "flex_flow": null,
            "grid_area": null,
            "grid_auto_columns": null,
            "grid_auto_flow": null,
            "grid_auto_rows": null,
            "grid_column": null,
            "grid_gap": null,
            "grid_row": null,
            "grid_template_areas": null,
            "grid_template_columns": null,
            "grid_template_rows": null,
            "height": null,
            "justify_content": null,
            "justify_items": null,
            "left": null,
            "margin": null,
            "max_height": null,
            "max_width": null,
            "min_height": null,
            "min_width": null,
            "object_fit": null,
            "object_position": null,
            "order": null,
            "overflow": null,
            "overflow_x": null,
            "overflow_y": null,
            "padding": null,
            "right": null,
            "top": null,
            "visibility": null,
            "width": null
          }
        },
        "c97b3a8f1d8e4e4ca795b287cb7abea3": {
          "model_module": "@jupyter-widgets/controls",
          "model_name": "ProgressStyleModel",
          "model_module_version": "1.5.0",
          "state": {
            "_model_module": "@jupyter-widgets/controls",
            "_model_module_version": "1.5.0",
            "_model_name": "ProgressStyleModel",
            "_view_count": null,
            "_view_module": "@jupyter-widgets/base",
            "_view_module_version": "1.2.0",
            "_view_name": "StyleView",
            "bar_color": null,
            "description_width": ""
          }
        },
        "88c5d929d13c42a2be59e1645142d199": {
          "model_module": "@jupyter-widgets/base",
          "model_name": "LayoutModel",
          "model_module_version": "1.2.0",
          "state": {
            "_model_module": "@jupyter-widgets/base",
            "_model_module_version": "1.2.0",
            "_model_name": "LayoutModel",
            "_view_count": null,
            "_view_module": "@jupyter-widgets/base",
            "_view_module_version": "1.2.0",
            "_view_name": "LayoutView",
            "align_content": null,
            "align_items": null,
            "align_self": null,
            "border": null,
            "bottom": null,
            "display": null,
            "flex": null,
            "flex_flow": null,
            "grid_area": null,
            "grid_auto_columns": null,
            "grid_auto_flow": null,
            "grid_auto_rows": null,
            "grid_column": null,
            "grid_gap": null,
            "grid_row": null,
            "grid_template_areas": null,
            "grid_template_columns": null,
            "grid_template_rows": null,
            "height": null,
            "justify_content": null,
            "justify_items": null,
            "left": null,
            "margin": null,
            "max_height": null,
            "max_width": null,
            "min_height": null,
            "min_width": null,
            "object_fit": null,
            "object_position": null,
            "order": null,
            "overflow": null,
            "overflow_x": null,
            "overflow_y": null,
            "padding": null,
            "right": null,
            "top": null,
            "visibility": null,
            "width": null
          }
        },
        "844b05b1256f4696a5fce7092c4fffac": {
          "model_module": "@jupyter-widgets/controls",
          "model_name": "DescriptionStyleModel",
          "model_module_version": "1.5.0",
          "state": {
            "_model_module": "@jupyter-widgets/controls",
            "_model_module_version": "1.5.0",
            "_model_name": "DescriptionStyleModel",
            "_view_count": null,
            "_view_module": "@jupyter-widgets/base",
            "_view_module_version": "1.2.0",
            "_view_name": "StyleView",
            "description_width": ""
          }
        },
        "d431c5cdf5544a50aa45258b4bf29a5c": {
          "model_module": "@jupyter-widgets/controls",
          "model_name": "HBoxModel",
          "model_module_version": "1.5.0",
          "state": {
            "_dom_classes": [],
            "_model_module": "@jupyter-widgets/controls",
            "_model_module_version": "1.5.0",
            "_model_name": "HBoxModel",
            "_view_count": null,
            "_view_module": "@jupyter-widgets/controls",
            "_view_module_version": "1.5.0",
            "_view_name": "HBoxView",
            "box_style": "",
            "children": [
              "IPY_MODEL_03bf6468ba074c8f808c8b347e877e21",
              "IPY_MODEL_1303e5cfe5744b0daab7c32dff45765c",
              "IPY_MODEL_c5cd950e5356429294daef0bb5c8d036"
            ],
            "layout": "IPY_MODEL_d2ddd019ad9340b49d7a66ab0e0d0000"
          }
        },
        "03bf6468ba074c8f808c8b347e877e21": {
          "model_module": "@jupyter-widgets/controls",
          "model_name": "HTMLModel",
          "model_module_version": "1.5.0",
          "state": {
            "_dom_classes": [],
            "_model_module": "@jupyter-widgets/controls",
            "_model_module_version": "1.5.0",
            "_model_name": "HTMLModel",
            "_view_count": null,
            "_view_module": "@jupyter-widgets/controls",
            "_view_module_version": "1.5.0",
            "_view_name": "HTMLView",
            "description": "",
            "description_tooltip": null,
            "layout": "IPY_MODEL_2cf5a4d75dae46349a5f4eb4c0df888f",
            "placeholder": "​",
            "style": "IPY_MODEL_c5127b4c66944ec38907d3a40d047d7a",
            "value": "Downloading (…)/main/tokenizer.json: 100%"
          }
        },
        "1303e5cfe5744b0daab7c32dff45765c": {
          "model_module": "@jupyter-widgets/controls",
          "model_name": "FloatProgressModel",
          "model_module_version": "1.5.0",
          "state": {
            "_dom_classes": [],
            "_model_module": "@jupyter-widgets/controls",
            "_model_module_version": "1.5.0",
            "_model_name": "FloatProgressModel",
            "_view_count": null,
            "_view_module": "@jupyter-widgets/controls",
            "_view_module_version": "1.5.0",
            "_view_name": "ProgressView",
            "bar_style": "success",
            "description": "",
            "description_tooltip": null,
            "layout": "IPY_MODEL_8eed776be6b84a9b8cdac60617ba93c1",
            "max": 1355863,
            "min": 0,
            "orientation": "horizontal",
            "style": "IPY_MODEL_10bc79ee2e894d3580530eeb2baba830",
            "value": 1355863
          }
        },
        "c5cd950e5356429294daef0bb5c8d036": {
          "model_module": "@jupyter-widgets/controls",
          "model_name": "HTMLModel",
          "model_module_version": "1.5.0",
          "state": {
            "_dom_classes": [],
            "_model_module": "@jupyter-widgets/controls",
            "_model_module_version": "1.5.0",
            "_model_name": "HTMLModel",
            "_view_count": null,
            "_view_module": "@jupyter-widgets/controls",
            "_view_module_version": "1.5.0",
            "_view_name": "HTMLView",
            "description": "",
            "description_tooltip": null,
            "layout": "IPY_MODEL_07fd46e9198d42b3bc39bd398271d8b1",
            "placeholder": "​",
            "style": "IPY_MODEL_d7b5110e8b074ac29a0bb4c9c05658fa",
            "value": " 1.36M/1.36M [00:00&lt;00:00, 2.98MB/s]"
          }
        },
        "d2ddd019ad9340b49d7a66ab0e0d0000": {
          "model_module": "@jupyter-widgets/base",
          "model_name": "LayoutModel",
          "model_module_version": "1.2.0",
          "state": {
            "_model_module": "@jupyter-widgets/base",
            "_model_module_version": "1.2.0",
            "_model_name": "LayoutModel",
            "_view_count": null,
            "_view_module": "@jupyter-widgets/base",
            "_view_module_version": "1.2.0",
            "_view_name": "LayoutView",
            "align_content": null,
            "align_items": null,
            "align_self": null,
            "border": null,
            "bottom": null,
            "display": null,
            "flex": null,
            "flex_flow": null,
            "grid_area": null,
            "grid_auto_columns": null,
            "grid_auto_flow": null,
            "grid_auto_rows": null,
            "grid_column": null,
            "grid_gap": null,
            "grid_row": null,
            "grid_template_areas": null,
            "grid_template_columns": null,
            "grid_template_rows": null,
            "height": null,
            "justify_content": null,
            "justify_items": null,
            "left": null,
            "margin": null,
            "max_height": null,
            "max_width": null,
            "min_height": null,
            "min_width": null,
            "object_fit": null,
            "object_position": null,
            "order": null,
            "overflow": null,
            "overflow_x": null,
            "overflow_y": null,
            "padding": null,
            "right": null,
            "top": null,
            "visibility": null,
            "width": null
          }
        },
        "2cf5a4d75dae46349a5f4eb4c0df888f": {
          "model_module": "@jupyter-widgets/base",
          "model_name": "LayoutModel",
          "model_module_version": "1.2.0",
          "state": {
            "_model_module": "@jupyter-widgets/base",
            "_model_module_version": "1.2.0",
            "_model_name": "LayoutModel",
            "_view_count": null,
            "_view_module": "@jupyter-widgets/base",
            "_view_module_version": "1.2.0",
            "_view_name": "LayoutView",
            "align_content": null,
            "align_items": null,
            "align_self": null,
            "border": null,
            "bottom": null,
            "display": null,
            "flex": null,
            "flex_flow": null,
            "grid_area": null,
            "grid_auto_columns": null,
            "grid_auto_flow": null,
            "grid_auto_rows": null,
            "grid_column": null,
            "grid_gap": null,
            "grid_row": null,
            "grid_template_areas": null,
            "grid_template_columns": null,
            "grid_template_rows": null,
            "height": null,
            "justify_content": null,
            "justify_items": null,
            "left": null,
            "margin": null,
            "max_height": null,
            "max_width": null,
            "min_height": null,
            "min_width": null,
            "object_fit": null,
            "object_position": null,
            "order": null,
            "overflow": null,
            "overflow_x": null,
            "overflow_y": null,
            "padding": null,
            "right": null,
            "top": null,
            "visibility": null,
            "width": null
          }
        },
        "c5127b4c66944ec38907d3a40d047d7a": {
          "model_module": "@jupyter-widgets/controls",
          "model_name": "DescriptionStyleModel",
          "model_module_version": "1.5.0",
          "state": {
            "_model_module": "@jupyter-widgets/controls",
            "_model_module_version": "1.5.0",
            "_model_name": "DescriptionStyleModel",
            "_view_count": null,
            "_view_module": "@jupyter-widgets/base",
            "_view_module_version": "1.2.0",
            "_view_name": "StyleView",
            "description_width": ""
          }
        },
        "8eed776be6b84a9b8cdac60617ba93c1": {
          "model_module": "@jupyter-widgets/base",
          "model_name": "LayoutModel",
          "model_module_version": "1.2.0",
          "state": {
            "_model_module": "@jupyter-widgets/base",
            "_model_module_version": "1.2.0",
            "_model_name": "LayoutModel",
            "_view_count": null,
            "_view_module": "@jupyter-widgets/base",
            "_view_module_version": "1.2.0",
            "_view_name": "LayoutView",
            "align_content": null,
            "align_items": null,
            "align_self": null,
            "border": null,
            "bottom": null,
            "display": null,
            "flex": null,
            "flex_flow": null,
            "grid_area": null,
            "grid_auto_columns": null,
            "grid_auto_flow": null,
            "grid_auto_rows": null,
            "grid_column": null,
            "grid_gap": null,
            "grid_row": null,
            "grid_template_areas": null,
            "grid_template_columns": null,
            "grid_template_rows": null,
            "height": null,
            "justify_content": null,
            "justify_items": null,
            "left": null,
            "margin": null,
            "max_height": null,
            "max_width": null,
            "min_height": null,
            "min_width": null,
            "object_fit": null,
            "object_position": null,
            "order": null,
            "overflow": null,
            "overflow_x": null,
            "overflow_y": null,
            "padding": null,
            "right": null,
            "top": null,
            "visibility": null,
            "width": null
          }
        },
        "10bc79ee2e894d3580530eeb2baba830": {
          "model_module": "@jupyter-widgets/controls",
          "model_name": "ProgressStyleModel",
          "model_module_version": "1.5.0",
          "state": {
            "_model_module": "@jupyter-widgets/controls",
            "_model_module_version": "1.5.0",
            "_model_name": "ProgressStyleModel",
            "_view_count": null,
            "_view_module": "@jupyter-widgets/base",
            "_view_module_version": "1.2.0",
            "_view_name": "StyleView",
            "bar_color": null,
            "description_width": ""
          }
        },
        "07fd46e9198d42b3bc39bd398271d8b1": {
          "model_module": "@jupyter-widgets/base",
          "model_name": "LayoutModel",
          "model_module_version": "1.2.0",
          "state": {
            "_model_module": "@jupyter-widgets/base",
            "_model_module_version": "1.2.0",
            "_model_name": "LayoutModel",
            "_view_count": null,
            "_view_module": "@jupyter-widgets/base",
            "_view_module_version": "1.2.0",
            "_view_name": "LayoutView",
            "align_content": null,
            "align_items": null,
            "align_self": null,
            "border": null,
            "bottom": null,
            "display": null,
            "flex": null,
            "flex_flow": null,
            "grid_area": null,
            "grid_auto_columns": null,
            "grid_auto_flow": null,
            "grid_auto_rows": null,
            "grid_column": null,
            "grid_gap": null,
            "grid_row": null,
            "grid_template_areas": null,
            "grid_template_columns": null,
            "grid_template_rows": null,
            "height": null,
            "justify_content": null,
            "justify_items": null,
            "left": null,
            "margin": null,
            "max_height": null,
            "max_width": null,
            "min_height": null,
            "min_width": null,
            "object_fit": null,
            "object_position": null,
            "order": null,
            "overflow": null,
            "overflow_x": null,
            "overflow_y": null,
            "padding": null,
            "right": null,
            "top": null,
            "visibility": null,
            "width": null
          }
        },
        "d7b5110e8b074ac29a0bb4c9c05658fa": {
          "model_module": "@jupyter-widgets/controls",
          "model_name": "DescriptionStyleModel",
          "model_module_version": "1.5.0",
          "state": {
            "_model_module": "@jupyter-widgets/controls",
            "_model_module_version": "1.5.0",
            "_model_name": "DescriptionStyleModel",
            "_view_count": null,
            "_view_module": "@jupyter-widgets/base",
            "_view_module_version": "1.2.0",
            "_view_name": "StyleView",
            "description_width": ""
          }
        },
        "657c764a9d5742c7b53077a2d6407c1b": {
          "model_module": "@jupyter-widgets/controls",
          "model_name": "HBoxModel",
          "model_module_version": "1.5.0",
          "state": {
            "_dom_classes": [],
            "_model_module": "@jupyter-widgets/controls",
            "_model_module_version": "1.5.0",
            "_model_name": "HBoxModel",
            "_view_count": null,
            "_view_module": "@jupyter-widgets/controls",
            "_view_module_version": "1.5.0",
            "_view_name": "HBoxView",
            "box_style": "",
            "children": [
              "IPY_MODEL_c8311fbeb38d4551826da1959bba665b",
              "IPY_MODEL_da3f59d25ad3491fa920302592808afe",
              "IPY_MODEL_855799e349fc484a9cd6b60aa3bf3773"
            ],
            "layout": "IPY_MODEL_dcf8a470848a44a2966594c8d1d23639"
          }
        },
        "c8311fbeb38d4551826da1959bba665b": {
          "model_module": "@jupyter-widgets/controls",
          "model_name": "HTMLModel",
          "model_module_version": "1.5.0",
          "state": {
            "_dom_classes": [],
            "_model_module": "@jupyter-widgets/controls",
            "_model_module_version": "1.5.0",
            "_model_name": "HTMLModel",
            "_view_count": null,
            "_view_module": "@jupyter-widgets/controls",
            "_view_module_version": "1.5.0",
            "_view_name": "HTMLView",
            "description": "",
            "description_tooltip": null,
            "layout": "IPY_MODEL_7a57c90f16fe43e2a9a9e9f79123c457",
            "placeholder": "​",
            "style": "IPY_MODEL_79f640d512094c3c95f426ff13cb730e",
            "value": "Downloading model.safetensors: 100%"
          }
        },
        "da3f59d25ad3491fa920302592808afe": {
          "model_module": "@jupyter-widgets/controls",
          "model_name": "FloatProgressModel",
          "model_module_version": "1.5.0",
          "state": {
            "_dom_classes": [],
            "_model_module": "@jupyter-widgets/controls",
            "_model_module_version": "1.5.0",
            "_model_name": "FloatProgressModel",
            "_view_count": null,
            "_view_module": "@jupyter-widgets/controls",
            "_view_module_version": "1.5.0",
            "_view_name": "ProgressView",
            "bar_style": "success",
            "description": "",
            "description_tooltip": null,
            "layout": "IPY_MODEL_8bf7ecae8e47487cba33dda583cb9eab",
            "max": 331055963,
            "min": 0,
            "orientation": "horizontal",
            "style": "IPY_MODEL_c4690478b13f4a129fbd27f84f4c1b4b",
            "value": 331055963
          }
        },
        "855799e349fc484a9cd6b60aa3bf3773": {
          "model_module": "@jupyter-widgets/controls",
          "model_name": "HTMLModel",
          "model_module_version": "1.5.0",
          "state": {
            "_dom_classes": [],
            "_model_module": "@jupyter-widgets/controls",
            "_model_module_version": "1.5.0",
            "_model_name": "HTMLModel",
            "_view_count": null,
            "_view_module": "@jupyter-widgets/controls",
            "_view_module_version": "1.5.0",
            "_view_name": "HTMLView",
            "description": "",
            "description_tooltip": null,
            "layout": "IPY_MODEL_a981d376f4104cc1bf549f73d7dd4ecc",
            "placeholder": "​",
            "style": "IPY_MODEL_896d4987ddf743aca5522f8f5b41df49",
            "value": " 331M/331M [00:00&lt;00:00, 389MB/s]"
          }
        },
        "dcf8a470848a44a2966594c8d1d23639": {
          "model_module": "@jupyter-widgets/base",
          "model_name": "LayoutModel",
          "model_module_version": "1.2.0",
          "state": {
            "_model_module": "@jupyter-widgets/base",
            "_model_module_version": "1.2.0",
            "_model_name": "LayoutModel",
            "_view_count": null,
            "_view_module": "@jupyter-widgets/base",
            "_view_module_version": "1.2.0",
            "_view_name": "LayoutView",
            "align_content": null,
            "align_items": null,
            "align_self": null,
            "border": null,
            "bottom": null,
            "display": null,
            "flex": null,
            "flex_flow": null,
            "grid_area": null,
            "grid_auto_columns": null,
            "grid_auto_flow": null,
            "grid_auto_rows": null,
            "grid_column": null,
            "grid_gap": null,
            "grid_row": null,
            "grid_template_areas": null,
            "grid_template_columns": null,
            "grid_template_rows": null,
            "height": null,
            "justify_content": null,
            "justify_items": null,
            "left": null,
            "margin": null,
            "max_height": null,
            "max_width": null,
            "min_height": null,
            "min_width": null,
            "object_fit": null,
            "object_position": null,
            "order": null,
            "overflow": null,
            "overflow_x": null,
            "overflow_y": null,
            "padding": null,
            "right": null,
            "top": null,
            "visibility": null,
            "width": null
          }
        },
        "7a57c90f16fe43e2a9a9e9f79123c457": {
          "model_module": "@jupyter-widgets/base",
          "model_name": "LayoutModel",
          "model_module_version": "1.2.0",
          "state": {
            "_model_module": "@jupyter-widgets/base",
            "_model_module_version": "1.2.0",
            "_model_name": "LayoutModel",
            "_view_count": null,
            "_view_module": "@jupyter-widgets/base",
            "_view_module_version": "1.2.0",
            "_view_name": "LayoutView",
            "align_content": null,
            "align_items": null,
            "align_self": null,
            "border": null,
            "bottom": null,
            "display": null,
            "flex": null,
            "flex_flow": null,
            "grid_area": null,
            "grid_auto_columns": null,
            "grid_auto_flow": null,
            "grid_auto_rows": null,
            "grid_column": null,
            "grid_gap": null,
            "grid_row": null,
            "grid_template_areas": null,
            "grid_template_columns": null,
            "grid_template_rows": null,
            "height": null,
            "justify_content": null,
            "justify_items": null,
            "left": null,
            "margin": null,
            "max_height": null,
            "max_width": null,
            "min_height": null,
            "min_width": null,
            "object_fit": null,
            "object_position": null,
            "order": null,
            "overflow": null,
            "overflow_x": null,
            "overflow_y": null,
            "padding": null,
            "right": null,
            "top": null,
            "visibility": null,
            "width": null
          }
        },
        "79f640d512094c3c95f426ff13cb730e": {
          "model_module": "@jupyter-widgets/controls",
          "model_name": "DescriptionStyleModel",
          "model_module_version": "1.5.0",
          "state": {
            "_model_module": "@jupyter-widgets/controls",
            "_model_module_version": "1.5.0",
            "_model_name": "DescriptionStyleModel",
            "_view_count": null,
            "_view_module": "@jupyter-widgets/base",
            "_view_module_version": "1.2.0",
            "_view_name": "StyleView",
            "description_width": ""
          }
        },
        "8bf7ecae8e47487cba33dda583cb9eab": {
          "model_module": "@jupyter-widgets/base",
          "model_name": "LayoutModel",
          "model_module_version": "1.2.0",
          "state": {
            "_model_module": "@jupyter-widgets/base",
            "_model_module_version": "1.2.0",
            "_model_name": "LayoutModel",
            "_view_count": null,
            "_view_module": "@jupyter-widgets/base",
            "_view_module_version": "1.2.0",
            "_view_name": "LayoutView",
            "align_content": null,
            "align_items": null,
            "align_self": null,
            "border": null,
            "bottom": null,
            "display": null,
            "flex": null,
            "flex_flow": null,
            "grid_area": null,
            "grid_auto_columns": null,
            "grid_auto_flow": null,
            "grid_auto_rows": null,
            "grid_column": null,
            "grid_gap": null,
            "grid_row": null,
            "grid_template_areas": null,
            "grid_template_columns": null,
            "grid_template_rows": null,
            "height": null,
            "justify_content": null,
            "justify_items": null,
            "left": null,
            "margin": null,
            "max_height": null,
            "max_width": null,
            "min_height": null,
            "min_width": null,
            "object_fit": null,
            "object_position": null,
            "order": null,
            "overflow": null,
            "overflow_x": null,
            "overflow_y": null,
            "padding": null,
            "right": null,
            "top": null,
            "visibility": null,
            "width": null
          }
        },
        "c4690478b13f4a129fbd27f84f4c1b4b": {
          "model_module": "@jupyter-widgets/controls",
          "model_name": "ProgressStyleModel",
          "model_module_version": "1.5.0",
          "state": {
            "_model_module": "@jupyter-widgets/controls",
            "_model_module_version": "1.5.0",
            "_model_name": "ProgressStyleModel",
            "_view_count": null,
            "_view_module": "@jupyter-widgets/base",
            "_view_module_version": "1.2.0",
            "_view_name": "StyleView",
            "bar_color": null,
            "description_width": ""
          }
        },
        "a981d376f4104cc1bf549f73d7dd4ecc": {
          "model_module": "@jupyter-widgets/base",
          "model_name": "LayoutModel",
          "model_module_version": "1.2.0",
          "state": {
            "_model_module": "@jupyter-widgets/base",
            "_model_module_version": "1.2.0",
            "_model_name": "LayoutModel",
            "_view_count": null,
            "_view_module": "@jupyter-widgets/base",
            "_view_module_version": "1.2.0",
            "_view_name": "LayoutView",
            "align_content": null,
            "align_items": null,
            "align_self": null,
            "border": null,
            "bottom": null,
            "display": null,
            "flex": null,
            "flex_flow": null,
            "grid_area": null,
            "grid_auto_columns": null,
            "grid_auto_flow": null,
            "grid_auto_rows": null,
            "grid_column": null,
            "grid_gap": null,
            "grid_row": null,
            "grid_template_areas": null,
            "grid_template_columns": null,
            "grid_template_rows": null,
            "height": null,
            "justify_content": null,
            "justify_items": null,
            "left": null,
            "margin": null,
            "max_height": null,
            "max_width": null,
            "min_height": null,
            "min_width": null,
            "object_fit": null,
            "object_position": null,
            "order": null,
            "overflow": null,
            "overflow_x": null,
            "overflow_y": null,
            "padding": null,
            "right": null,
            "top": null,
            "visibility": null,
            "width": null
          }
        },
        "896d4987ddf743aca5522f8f5b41df49": {
          "model_module": "@jupyter-widgets/controls",
          "model_name": "DescriptionStyleModel",
          "model_module_version": "1.5.0",
          "state": {
            "_model_module": "@jupyter-widgets/controls",
            "_model_module_version": "1.5.0",
            "_model_name": "DescriptionStyleModel",
            "_view_count": null,
            "_view_module": "@jupyter-widgets/base",
            "_view_module_version": "1.2.0",
            "_view_name": "StyleView",
            "description_width": ""
          }
        }
      }
    },
    "accelerator": "GPU"
  },
  "nbformat": 4,
  "nbformat_minor": 0
}